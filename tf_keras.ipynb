{
  "nbformat": 4,
  "nbformat_minor": 0,
  "metadata": {
    "colab": {
      "provenance": [],
      "authorship_tag": "ABX9TyNhnL9U0QEfOPX8VQqBNBGv",
      "include_colab_link": true
    },
    "kernelspec": {
      "name": "python3",
      "display_name": "Python 3"
    },
    "language_info": {
      "name": "python"
    },
    "gpuClass": "standard",
    "accelerator": "GPU"
  },
  "cells": [
    {
      "cell_type": "markdown",
      "metadata": {
        "id": "view-in-github",
        "colab_type": "text"
      },
      "source": [
        "<a href=\"https://colab.research.google.com/github/cswcjt/Deep_Learning/blob/main/tf_keras.ipynb\" target=\"_parent\"><img src=\"https://colab.research.google.com/assets/colab-badge.svg\" alt=\"Open In Colab\"/></a>"
      ]
    },
    {
      "cell_type": "code",
      "source": [
        "!nvidia-smi"
      ],
      "metadata": {
        "colab": {
          "base_uri": "https://localhost:8080/"
        },
        "id": "lg_crkq6vJjP",
        "outputId": "a9a46f0b-da7b-4132-88c3-a88aaba4d166"
      },
      "execution_count": 1,
      "outputs": [
        {
          "output_type": "stream",
          "name": "stdout",
          "text": [
            "Wed Nov 30 05:36:35 2022       \n",
            "+-----------------------------------------------------------------------------+\n",
            "| NVIDIA-SMI 460.32.03    Driver Version: 460.32.03    CUDA Version: 11.2     |\n",
            "|-------------------------------+----------------------+----------------------+\n",
            "| GPU  Name        Persistence-M| Bus-Id        Disp.A | Volatile Uncorr. ECC |\n",
            "| Fan  Temp  Perf  Pwr:Usage/Cap|         Memory-Usage | GPU-Util  Compute M. |\n",
            "|                               |                      |               MIG M. |\n",
            "|===============================+======================+======================|\n",
            "|   0  Tesla T4            Off  | 00000000:00:04.0 Off |                    0 |\n",
            "| N/A   69C    P8    10W /  70W |      0MiB / 15109MiB |      0%      Default |\n",
            "|                               |                      |                  N/A |\n",
            "+-------------------------------+----------------------+----------------------+\n",
            "                                                                               \n",
            "+-----------------------------------------------------------------------------+\n",
            "| Processes:                                                                  |\n",
            "|  GPU   GI   CI        PID   Type   Process name                  GPU Memory |\n",
            "|        ID   ID                                                   Usage      |\n",
            "|=============================================================================|\n",
            "|  No running processes found                                                 |\n",
            "+-----------------------------------------------------------------------------+\n"
          ]
        }
      ]
    },
    {
      "cell_type": "code",
      "execution_count": 2,
      "metadata": {
        "colab": {
          "base_uri": "https://localhost:8080/",
          "height": 35
        },
        "id": "snXto23duz0X",
        "outputId": "c9a3adc5-825d-4f3a-cfc0-e0fec0d77bea"
      },
      "outputs": [
        {
          "output_type": "execute_result",
          "data": {
            "text/plain": [
              "'2.9.2'"
            ],
            "application/vnd.google.colaboratory.intrinsic+json": {
              "type": "string"
            }
          },
          "metadata": {},
          "execution_count": 2
        }
      ],
      "source": [
        "import tensorflow as tf\n",
        "import numpy as np\n",
        "tf.__version__"
      ]
    },
    {
      "cell_type": "code",
      "source": [
        "# DNN \n",
        "from tensorflow import keras\n",
        "import tensorflow as tf\n",
        "# dataset \n",
        "from tensorflow.keras.datasets import cifar10\n",
        "from tensorflow.keras.layers import Input, Dense, Flatten # -> Dense: 모든 노드들이 연결되어 있는 NN\n",
        "from tensorflow.keras import Sequential"
      ],
      "metadata": {
        "id": "mLQTaAXevNOd"
      },
      "execution_count": 3,
      "outputs": []
    },
    {
      "cell_type": "markdown",
      "source": [],
      "metadata": {
        "id": "UoIow7chzIRP"
      }
    },
    {
      "cell_type": "code",
      "source": [
        "# load CIFAR10\n",
        "(X_train, y_train), (X_test, y_test) = cifar10.load_data()\n",
        "print(X_train.shape, y_train.shape, X_test.shape, y_test.shape)\n",
        "\n",
        "# RGB (3-channel)\n",
        "# 32*32 -R -> pitxel matrix\n",
        "# 32*32 -G -> pitxel matrix\n",
        "# 32*32 -B -> pitxel matrix"
      ],
      "metadata": {
        "colab": {
          "base_uri": "https://localhost:8080/"
        },
        "id": "EMQ1OU7pxExZ",
        "outputId": "2d8c134b-b258-4d47-bc03-c881b836c15c"
      },
      "execution_count": 4,
      "outputs": [
        {
          "output_type": "stream",
          "name": "stdout",
          "text": [
            "(50000, 32, 32, 3) (50000, 1) (10000, 32, 32, 3) (10000, 1)\n"
          ]
        }
      ]
    },
    {
      "cell_type": "markdown",
      "source": [
        "Model Traing\n",
        "\n",
        "1. Model architecture\n",
        "    "
      ],
      "metadata": {
        "id": "L1zzrx-3yo7_"
      }
    },
    {
      "cell_type": "code",
      "source": [
        "model = Sequential([\n",
        "    Input(shape=(32, 32, 3)), # input layer shape 결정\n",
        "    Flatten(), # (32,32,3) ---> shape을 (32*32*3, 1)로 바꾸는 작업: (input layer의 node 수)\n",
        "#    Dense(units=1024, activation='relu'),\n",
        "#    Dense(units=512, activation='relu'),\n",
        "    Dense(units=256, activation='relu'),\n",
        "    Dense(units=128, activation='relu'),\n",
        "    Dense(units=10, activation='softmax') # output layer의 유닛은 클래스의 개수, activation은 소프트맥스                \n",
        "])\n",
        "\n",
        "model.summary()"
      ],
      "metadata": {
        "colab": {
          "base_uri": "https://localhost:8080/"
        },
        "id": "a0-1C8zBy0mQ",
        "outputId": "0df44af9-c133-440c-c3a1-093ee77c8dab"
      },
      "execution_count": 22,
      "outputs": [
        {
          "output_type": "stream",
          "name": "stdout",
          "text": [
            "Model: \"sequential_2\"\n",
            "_________________________________________________________________\n",
            " Layer (type)                Output Shape              Param #   \n",
            "=================================================================\n",
            " flatten_2 (Flatten)         (None, 3072)              0         \n",
            "                                                                 \n",
            " dense_9 (Dense)             (None, 256)               786688    \n",
            "                                                                 \n",
            " dense_10 (Dense)            (None, 128)               32896     \n",
            "                                                                 \n",
            " dense_11 (Dense)            (None, 10)                1290      \n",
            "                                                                 \n",
            "=================================================================\n",
            "Total params: 820,874\n",
            "Trainable params: 820,874\n",
            "Non-trainable params: 0\n",
            "_________________________________________________________________\n"
          ]
        }
      ]
    },
    {
      "cell_type": "code",
      "source": [
        "# dense_1 (Dense)  (None, 1024)   3146752 = (3072 + 1) * 1024\n",
        "# dense_2 (Dense)  (None, 1024)   3146752 = (1024 + 1) * 1024\n",
        "# ..."
      ],
      "metadata": {
        "id": "p05MWkk20diT"
      },
      "execution_count": 11,
      "outputs": []
    },
    {
      "cell_type": "code",
      "source": [
        "# compile\n",
        "from tensorflow.keras.optimizers import SGD, Adam # Stochastic, 아담을 부른다\n",
        "\n",
        "lr = 1e-4\n",
        "# 모든 데이터가 학습에 사용되면 1 epoch\n",
        "# epochs: 전체 데이터를 몇번 반복 학습을 수행할건지\n",
        "# iterations: 실제로 weight update를 한 횟수.\n",
        "# iterations =  전체 데이터 수 / batch_size.\n",
        "# ex) 50000 / 128 = 391\n",
        "# ex) 50000 / 256 = 196\n",
        "epochs = 100\n",
        "batch_size = 128\n",
        "\n",
        "# 파라미터로 momentum 넣을 수 있다\n",
        "#optimizer_fn = SGD(learning_rate=lr) \n",
        "#optimizer_fn = SGD(learning_rate=lr, momentum=0.9) \n",
        "optimizer_fn = Adam(learning_rate=lr) \n",
        "\n",
        "# 클래스가 여러개인 경우, 즉 target vector가 정수인 경우 적용하는 crossentropy\n",
        "loss_fn = 'sparse_categorical_crossentropy' \n",
        "\n",
        "model.compile(optimizer=optimizer_fn,\n",
        "              loss=loss_fn,\n",
        "              metrics=['accuracy'])"
      ],
      "metadata": {
        "id": "d9EdA-A71efO"
      },
      "execution_count": 25,
      "outputs": []
    },
    {
      "cell_type": "code",
      "source": [
        "# 언더피팅(train은 성능 향상, but val은 그닥..): 모델 바꾸기\n",
        "# 오버피팅(train은 그닥.., val은 성능 향상): 옵티마이저 바꾸기"
      ],
      "metadata": {
        "id": "3fQjDrGAHUkL"
      },
      "execution_count": 26,
      "outputs": []
    },
    {
      "cell_type": "code",
      "source": [
        "# fit \n",
        "model.fit(x=X_train,\n",
        "          y=y_train,\n",
        "          batch_size=batch_size,\n",
        "          epochs=epochs,\n",
        "          verbose=2,\n",
        "          validation_data=(X_test, y_test))"
      ],
      "metadata": {
        "colab": {
          "base_uri": "https://localhost:8080/"
        },
        "id": "yiglyyVZ4xeU",
        "outputId": "8a66bfa6-6525-4233-c62e-4fcb11b5f116"
      },
      "execution_count": 27,
      "outputs": [
        {
          "output_type": "stream",
          "name": "stdout",
          "text": [
            "Epoch 1/100\n",
            "391/391 - 2s - loss: 21.8350 - accuracy: 0.2205 - val_loss: 12.1794 - val_accuracy: 0.2414 - 2s/epoch - 5ms/step\n",
            "Epoch 2/100\n",
            "391/391 - 1s - loss: 10.5163 - accuracy: 0.2572 - val_loss: 8.8408 - val_accuracy: 0.2752 - 1s/epoch - 3ms/step\n",
            "Epoch 3/100\n",
            "391/391 - 1s - loss: 7.8816 - accuracy: 0.2807 - val_loss: 7.0528 - val_accuracy: 0.2700 - 1s/epoch - 4ms/step\n",
            "Epoch 4/100\n",
            "391/391 - 1s - loss: 6.6039 - accuracy: 0.2900 - val_loss: 6.1062 - val_accuracy: 0.2857 - 1s/epoch - 4ms/step\n",
            "Epoch 5/100\n",
            "391/391 - 1s - loss: 5.7125 - accuracy: 0.2997 - val_loss: 5.2339 - val_accuracy: 0.2948 - 1s/epoch - 3ms/step\n",
            "Epoch 6/100\n",
            "391/391 - 1s - loss: 5.0544 - accuracy: 0.3082 - val_loss: 4.9682 - val_accuracy: 0.3008 - 1s/epoch - 4ms/step\n",
            "Epoch 7/100\n",
            "391/391 - 2s - loss: 4.5527 - accuracy: 0.3157 - val_loss: 4.6492 - val_accuracy: 0.2949 - 2s/epoch - 4ms/step\n",
            "Epoch 8/100\n",
            "391/391 - 1s - loss: 4.2066 - accuracy: 0.3225 - val_loss: 4.2939 - val_accuracy: 0.2963 - 1s/epoch - 4ms/step\n",
            "Epoch 9/100\n",
            "391/391 - 1s - loss: 3.9638 - accuracy: 0.3262 - val_loss: 4.4223 - val_accuracy: 0.2877 - 1s/epoch - 3ms/step\n",
            "Epoch 10/100\n",
            "391/391 - 1s - loss: 3.6436 - accuracy: 0.3333 - val_loss: 3.5502 - val_accuracy: 0.3268 - 1s/epoch - 3ms/step\n",
            "Epoch 11/100\n",
            "391/391 - 1s - loss: 3.3330 - accuracy: 0.3417 - val_loss: 3.4424 - val_accuracy: 0.3377 - 1s/epoch - 3ms/step\n",
            "Epoch 12/100\n",
            "391/391 - 1s - loss: 3.2466 - accuracy: 0.3413 - val_loss: 3.8075 - val_accuracy: 0.3126 - 1s/epoch - 4ms/step\n",
            "Epoch 13/100\n",
            "391/391 - 1s - loss: 3.1120 - accuracy: 0.3424 - val_loss: 3.2049 - val_accuracy: 0.3213 - 1s/epoch - 4ms/step\n",
            "Epoch 14/100\n",
            "391/391 - 1s - loss: 2.9324 - accuracy: 0.3505 - val_loss: 3.2779 - val_accuracy: 0.3111 - 1s/epoch - 3ms/step\n",
            "Epoch 15/100\n",
            "391/391 - 1s - loss: 2.8972 - accuracy: 0.3551 - val_loss: 3.0138 - val_accuracy: 0.3202 - 1s/epoch - 3ms/step\n",
            "Epoch 16/100\n",
            "391/391 - 1s - loss: 2.7157 - accuracy: 0.3588 - val_loss: 3.2627 - val_accuracy: 0.2944 - 1s/epoch - 3ms/step\n",
            "Epoch 17/100\n",
            "391/391 - 1s - loss: 2.5421 - accuracy: 0.3673 - val_loss: 2.9917 - val_accuracy: 0.3231 - 1s/epoch - 3ms/step\n",
            "Epoch 18/100\n",
            "391/391 - 1s - loss: 2.4979 - accuracy: 0.3701 - val_loss: 2.7423 - val_accuracy: 0.3442 - 1s/epoch - 3ms/step\n",
            "Epoch 19/100\n",
            "391/391 - 1s - loss: 2.4360 - accuracy: 0.3716 - val_loss: 2.7323 - val_accuracy: 0.3376 - 1s/epoch - 3ms/step\n",
            "Epoch 20/100\n",
            "391/391 - 1s - loss: 2.3556 - accuracy: 0.3781 - val_loss: 2.5791 - val_accuracy: 0.3404 - 1s/epoch - 4ms/step\n",
            "Epoch 21/100\n",
            "391/391 - 1s - loss: 2.2701 - accuracy: 0.3801 - val_loss: 2.4767 - val_accuracy: 0.3509 - 1s/epoch - 3ms/step\n",
            "Epoch 22/100\n",
            "391/391 - 1s - loss: 2.1916 - accuracy: 0.3888 - val_loss: 2.2524 - val_accuracy: 0.3645 - 1s/epoch - 3ms/step\n",
            "Epoch 23/100\n",
            "391/391 - 1s - loss: 2.2093 - accuracy: 0.3846 - val_loss: 2.2906 - val_accuracy: 0.3680 - 1s/epoch - 4ms/step\n",
            "Epoch 24/100\n",
            "391/391 - 1s - loss: 2.0688 - accuracy: 0.3968 - val_loss: 2.6425 - val_accuracy: 0.3397 - 1s/epoch - 3ms/step\n",
            "Epoch 25/100\n",
            "391/391 - 1s - loss: 2.0762 - accuracy: 0.3951 - val_loss: 2.8867 - val_accuracy: 0.3127 - 1s/epoch - 4ms/step\n",
            "Epoch 26/100\n",
            "391/391 - 1s - loss: 2.0250 - accuracy: 0.4052 - val_loss: 2.5925 - val_accuracy: 0.3358 - 1s/epoch - 4ms/step\n",
            "Epoch 27/100\n",
            "391/391 - 1s - loss: 2.0048 - accuracy: 0.4052 - val_loss: 2.2527 - val_accuracy: 0.3548 - 1s/epoch - 3ms/step\n",
            "Epoch 28/100\n",
            "391/391 - 1s - loss: 1.9308 - accuracy: 0.4099 - val_loss: 2.2126 - val_accuracy: 0.3632 - 1s/epoch - 3ms/step\n",
            "Epoch 29/100\n",
            "391/391 - 1s - loss: 1.8633 - accuracy: 0.4187 - val_loss: 2.5125 - val_accuracy: 0.3370 - 1s/epoch - 3ms/step\n",
            "Epoch 30/100\n",
            "391/391 - 1s - loss: 1.8461 - accuracy: 0.4191 - val_loss: 2.1095 - val_accuracy: 0.3743 - 1s/epoch - 3ms/step\n",
            "Epoch 31/100\n",
            "391/391 - 1s - loss: 1.8709 - accuracy: 0.4173 - val_loss: 2.0995 - val_accuracy: 0.3750 - 1s/epoch - 4ms/step\n",
            "Epoch 32/100\n",
            "391/391 - 1s - loss: 1.7936 - accuracy: 0.4289 - val_loss: 2.1632 - val_accuracy: 0.3631 - 1s/epoch - 4ms/step\n",
            "Epoch 33/100\n",
            "391/391 - 1s - loss: 1.8032 - accuracy: 0.4264 - val_loss: 2.0234 - val_accuracy: 0.3852 - 1s/epoch - 3ms/step\n",
            "Epoch 34/100\n",
            "391/391 - 1s - loss: 1.7897 - accuracy: 0.4274 - val_loss: 2.1479 - val_accuracy: 0.3601 - 1s/epoch - 4ms/step\n",
            "Epoch 35/100\n",
            "391/391 - 1s - loss: 1.7296 - accuracy: 0.4393 - val_loss: 1.8267 - val_accuracy: 0.4165 - 1s/epoch - 3ms/step\n",
            "Epoch 36/100\n",
            "391/391 - 1s - loss: 1.6971 - accuracy: 0.4452 - val_loss: 1.8959 - val_accuracy: 0.3926 - 1s/epoch - 3ms/step\n",
            "Epoch 37/100\n",
            "391/391 - 1s - loss: 1.6893 - accuracy: 0.4448 - val_loss: 1.8615 - val_accuracy: 0.3947 - 1s/epoch - 3ms/step\n",
            "Epoch 38/100\n",
            "391/391 - 1s - loss: 1.6769 - accuracy: 0.4453 - val_loss: 1.8270 - val_accuracy: 0.4077 - 1s/epoch - 3ms/step\n",
            "Epoch 39/100\n",
            "391/391 - 1s - loss: 1.6829 - accuracy: 0.4436 - val_loss: 1.9142 - val_accuracy: 0.3948 - 1s/epoch - 3ms/step\n",
            "Epoch 40/100\n",
            "391/391 - 1s - loss: 1.6233 - accuracy: 0.4569 - val_loss: 1.9106 - val_accuracy: 0.4038 - 1s/epoch - 3ms/step\n",
            "Epoch 41/100\n",
            "391/391 - 1s - loss: 1.6301 - accuracy: 0.4547 - val_loss: 1.8249 - val_accuracy: 0.4185 - 1s/epoch - 3ms/step\n",
            "Epoch 42/100\n",
            "391/391 - 1s - loss: 1.5865 - accuracy: 0.4598 - val_loss: 1.8323 - val_accuracy: 0.4131 - 1s/epoch - 3ms/step\n",
            "Epoch 43/100\n",
            "391/391 - 1s - loss: 1.5910 - accuracy: 0.4616 - val_loss: 2.0040 - val_accuracy: 0.3910 - 1s/epoch - 3ms/step\n",
            "Epoch 44/100\n",
            "391/391 - 1s - loss: 1.5883 - accuracy: 0.4641 - val_loss: 1.9706 - val_accuracy: 0.3872 - 1s/epoch - 4ms/step\n",
            "Epoch 45/100\n",
            "391/391 - 1s - loss: 1.5954 - accuracy: 0.4589 - val_loss: 1.7597 - val_accuracy: 0.4208 - 1s/epoch - 4ms/step\n",
            "Epoch 46/100\n",
            "391/391 - 1s - loss: 1.5316 - accuracy: 0.4697 - val_loss: 1.7397 - val_accuracy: 0.4220 - 1s/epoch - 3ms/step\n",
            "Epoch 47/100\n",
            "391/391 - 1s - loss: 1.5257 - accuracy: 0.4739 - val_loss: 1.7788 - val_accuracy: 0.4229 - 1s/epoch - 3ms/step\n",
            "Epoch 48/100\n",
            "391/391 - 1s - loss: 1.5029 - accuracy: 0.4797 - val_loss: 1.8502 - val_accuracy: 0.4078 - 1s/epoch - 3ms/step\n",
            "Epoch 49/100\n",
            "391/391 - 1s - loss: 1.5013 - accuracy: 0.4812 - val_loss: 1.7749 - val_accuracy: 0.4212 - 1s/epoch - 3ms/step\n",
            "Epoch 50/100\n",
            "391/391 - 1s - loss: 1.5174 - accuracy: 0.4760 - val_loss: 1.9125 - val_accuracy: 0.4110 - 1s/epoch - 4ms/step\n",
            "Epoch 51/100\n",
            "391/391 - 1s - loss: 1.4798 - accuracy: 0.4851 - val_loss: 1.8039 - val_accuracy: 0.4118 - 1s/epoch - 3ms/step\n",
            "Epoch 52/100\n",
            "391/391 - 1s - loss: 1.4886 - accuracy: 0.4826 - val_loss: 1.6985 - val_accuracy: 0.4380 - 1s/epoch - 3ms/step\n",
            "Epoch 53/100\n",
            "391/391 - 1s - loss: 1.4873 - accuracy: 0.4835 - val_loss: 1.7237 - val_accuracy: 0.4382 - 1s/epoch - 3ms/step\n",
            "Epoch 54/100\n",
            "391/391 - 1s - loss: 1.4567 - accuracy: 0.4893 - val_loss: 1.9247 - val_accuracy: 0.3868 - 1s/epoch - 4ms/step\n",
            "Epoch 55/100\n",
            "391/391 - 1s - loss: 1.4520 - accuracy: 0.4911 - val_loss: 1.8033 - val_accuracy: 0.4312 - 1s/epoch - 3ms/step\n",
            "Epoch 56/100\n",
            "391/391 - 1s - loss: 1.4434 - accuracy: 0.4953 - val_loss: 1.7265 - val_accuracy: 0.4216 - 1s/epoch - 3ms/step\n",
            "Epoch 57/100\n",
            "391/391 - 1s - loss: 1.4495 - accuracy: 0.4928 - val_loss: 1.7021 - val_accuracy: 0.4361 - 1s/epoch - 3ms/step\n",
            "Epoch 58/100\n",
            "391/391 - 1s - loss: 1.4349 - accuracy: 0.4966 - val_loss: 1.7501 - val_accuracy: 0.4197 - 1s/epoch - 3ms/step\n",
            "Epoch 59/100\n",
            "391/391 - 1s - loss: 1.4273 - accuracy: 0.4999 - val_loss: 1.7640 - val_accuracy: 0.4166 - 1s/epoch - 3ms/step\n",
            "Epoch 60/100\n",
            "391/391 - 1s - loss: 1.4023 - accuracy: 0.5059 - val_loss: 1.6885 - val_accuracy: 0.4443 - 1s/epoch - 3ms/step\n",
            "Epoch 61/100\n",
            "391/391 - 1s - loss: 1.3878 - accuracy: 0.5105 - val_loss: 1.6944 - val_accuracy: 0.4428 - 1s/epoch - 3ms/step\n",
            "Epoch 62/100\n",
            "391/391 - 1s - loss: 1.4046 - accuracy: 0.5050 - val_loss: 1.8759 - val_accuracy: 0.4004 - 1s/epoch - 3ms/step\n",
            "Epoch 63/100\n",
            "391/391 - 1s - loss: 1.3850 - accuracy: 0.5104 - val_loss: 1.7227 - val_accuracy: 0.4198 - 1s/epoch - 3ms/step\n",
            "Epoch 64/100\n",
            "391/391 - 1s - loss: 1.3988 - accuracy: 0.5067 - val_loss: 1.6856 - val_accuracy: 0.4368 - 1s/epoch - 3ms/step\n",
            "Epoch 65/100\n",
            "391/391 - 1s - loss: 1.3792 - accuracy: 0.5114 - val_loss: 1.7456 - val_accuracy: 0.4324 - 1s/epoch - 3ms/step\n",
            "Epoch 66/100\n",
            "391/391 - 1s - loss: 1.3729 - accuracy: 0.5156 - val_loss: 1.6592 - val_accuracy: 0.4551 - 1s/epoch - 3ms/step\n",
            "Epoch 67/100\n",
            "391/391 - 1s - loss: 1.3731 - accuracy: 0.5120 - val_loss: 1.7591 - val_accuracy: 0.4249 - 1s/epoch - 3ms/step\n",
            "Epoch 68/100\n",
            "391/391 - 1s - loss: 1.3654 - accuracy: 0.5172 - val_loss: 1.8110 - val_accuracy: 0.4156 - 1s/epoch - 3ms/step\n",
            "Epoch 69/100\n",
            "391/391 - 1s - loss: 1.3753 - accuracy: 0.5146 - val_loss: 1.6763 - val_accuracy: 0.4603 - 1s/epoch - 3ms/step\n",
            "Epoch 70/100\n",
            "391/391 - 1s - loss: 1.3455 - accuracy: 0.5204 - val_loss: 1.6247 - val_accuracy: 0.4668 - 1s/epoch - 3ms/step\n",
            "Epoch 71/100\n",
            "391/391 - 1s - loss: 1.3550 - accuracy: 0.5188 - val_loss: 1.6238 - val_accuracy: 0.4597 - 1s/epoch - 3ms/step\n",
            "Epoch 72/100\n",
            "391/391 - 1s - loss: 1.3418 - accuracy: 0.5224 - val_loss: 1.6450 - val_accuracy: 0.4486 - 1s/epoch - 4ms/step\n",
            "Epoch 73/100\n",
            "391/391 - 1s - loss: 1.3411 - accuracy: 0.5259 - val_loss: 1.6349 - val_accuracy: 0.4577 - 1s/epoch - 3ms/step\n",
            "Epoch 74/100\n",
            "391/391 - 1s - loss: 1.3264 - accuracy: 0.5274 - val_loss: 1.6796 - val_accuracy: 0.4443 - 1s/epoch - 3ms/step\n",
            "Epoch 75/100\n",
            "391/391 - 1s - loss: 1.3201 - accuracy: 0.5316 - val_loss: 1.6733 - val_accuracy: 0.4431 - 1s/epoch - 3ms/step\n",
            "Epoch 76/100\n",
            "391/391 - 1s - loss: 1.3249 - accuracy: 0.5286 - val_loss: 1.6771 - val_accuracy: 0.4531 - 1s/epoch - 3ms/step\n",
            "Epoch 77/100\n",
            "391/391 - 1s - loss: 1.3190 - accuracy: 0.5307 - val_loss: 1.6953 - val_accuracy: 0.4438 - 1s/epoch - 3ms/step\n",
            "Epoch 78/100\n",
            "391/391 - 1s - loss: 1.3065 - accuracy: 0.5350 - val_loss: 1.7180 - val_accuracy: 0.4445 - 1s/epoch - 3ms/step\n",
            "Epoch 79/100\n",
            "391/391 - 1s - loss: 1.3159 - accuracy: 0.5316 - val_loss: 1.6538 - val_accuracy: 0.4613 - 1s/epoch - 3ms/step\n",
            "Epoch 80/100\n",
            "391/391 - 1s - loss: 1.2879 - accuracy: 0.5442 - val_loss: 1.7564 - val_accuracy: 0.4333 - 1s/epoch - 3ms/step\n",
            "Epoch 81/100\n",
            "391/391 - 1s - loss: 1.2961 - accuracy: 0.5378 - val_loss: 1.6195 - val_accuracy: 0.4668 - 1s/epoch - 3ms/step\n",
            "Epoch 82/100\n",
            "391/391 - 1s - loss: 1.2942 - accuracy: 0.5393 - val_loss: 1.6660 - val_accuracy: 0.4507 - 1s/epoch - 3ms/step\n",
            "Epoch 83/100\n",
            "391/391 - 1s - loss: 1.2960 - accuracy: 0.5400 - val_loss: 1.6686 - val_accuracy: 0.4598 - 1s/epoch - 3ms/step\n",
            "Epoch 84/100\n",
            "391/391 - 1s - loss: 1.2898 - accuracy: 0.5411 - val_loss: 1.6685 - val_accuracy: 0.4583 - 1s/epoch - 3ms/step\n",
            "Epoch 85/100\n",
            "391/391 - 1s - loss: 1.2843 - accuracy: 0.5427 - val_loss: 1.6700 - val_accuracy: 0.4530 - 1s/epoch - 3ms/step\n",
            "Epoch 86/100\n",
            "391/391 - 1s - loss: 1.2755 - accuracy: 0.5433 - val_loss: 1.6545 - val_accuracy: 0.4591 - 1s/epoch - 3ms/step\n",
            "Epoch 87/100\n",
            "391/391 - 1s - loss: 1.2730 - accuracy: 0.5495 - val_loss: 1.6412 - val_accuracy: 0.4652 - 1s/epoch - 3ms/step\n",
            "Epoch 88/100\n",
            "391/391 - 1s - loss: 1.2620 - accuracy: 0.5503 - val_loss: 1.6934 - val_accuracy: 0.4550 - 1s/epoch - 3ms/step\n",
            "Epoch 89/100\n",
            "391/391 - 1s - loss: 1.2679 - accuracy: 0.5484 - val_loss: 1.6460 - val_accuracy: 0.4641 - 1s/epoch - 3ms/step\n",
            "Epoch 90/100\n",
            "391/391 - 1s - loss: 1.2584 - accuracy: 0.5517 - val_loss: 1.7031 - val_accuracy: 0.4552 - 1s/epoch - 3ms/step\n",
            "Epoch 91/100\n",
            "391/391 - 1s - loss: 1.2471 - accuracy: 0.5567 - val_loss: 1.6816 - val_accuracy: 0.4582 - 1s/epoch - 3ms/step\n",
            "Epoch 92/100\n",
            "391/391 - 1s - loss: 1.2568 - accuracy: 0.5532 - val_loss: 1.7521 - val_accuracy: 0.4385 - 1s/epoch - 3ms/step\n",
            "Epoch 93/100\n",
            "391/391 - 1s - loss: 1.2422 - accuracy: 0.5587 - val_loss: 1.7919 - val_accuracy: 0.4345 - 1s/epoch - 3ms/step\n",
            "Epoch 94/100\n",
            "391/391 - 1s - loss: 1.2377 - accuracy: 0.5604 - val_loss: 1.7129 - val_accuracy: 0.4498 - 1s/epoch - 3ms/step\n",
            "Epoch 95/100\n",
            "391/391 - 1s - loss: 1.2348 - accuracy: 0.5604 - val_loss: 1.7562 - val_accuracy: 0.4497 - 1s/epoch - 3ms/step\n",
            "Epoch 96/100\n",
            "391/391 - 1s - loss: 1.2227 - accuracy: 0.5637 - val_loss: 1.7528 - val_accuracy: 0.4529 - 1s/epoch - 4ms/step\n",
            "Epoch 97/100\n",
            "391/391 - 1s - loss: 1.2343 - accuracy: 0.5611 - val_loss: 1.6848 - val_accuracy: 0.4644 - 1s/epoch - 3ms/step\n",
            "Epoch 98/100\n",
            "391/391 - 1s - loss: 1.2253 - accuracy: 0.5647 - val_loss: 1.7730 - val_accuracy: 0.4483 - 1s/epoch - 4ms/step\n",
            "Epoch 99/100\n",
            "391/391 - 1s - loss: 1.2233 - accuracy: 0.5631 - val_loss: 1.7586 - val_accuracy: 0.4501 - 1s/epoch - 4ms/step\n",
            "Epoch 100/100\n",
            "391/391 - 1s - loss: 1.2094 - accuracy: 0.5707 - val_loss: 1.7314 - val_accuracy: 0.4561 - 1s/epoch - 3ms/step\n"
          ]
        },
        {
          "output_type": "execute_result",
          "data": {
            "text/plain": [
              "<keras.callbacks.History at 0x7f33963d5ed0>"
            ]
          },
          "metadata": {},
          "execution_count": 27
        }
      ]
    },
    {
      "cell_type": "code",
      "source": [
        "## 어떤 Hyper-parameter setting에서 최고의 성능이 나왔나요?\n",
        "# evaluate\n",
        "loss, acc = model.evaluate(X_test, y_test, batch_size=batch_size)\n",
        "print(\"Loss : %.4f, Test Accuracy : %.4f\" % (loss, acc))"
      ],
      "metadata": {
        "id": "wYWIbayH5OFl"
      },
      "execution_count": null,
      "outputs": []
    },
    {
      "cell_type": "code",
      "source": [],
      "metadata": {
        "id": "xoGTzM8C9-xp"
      },
      "execution_count": null,
      "outputs": []
    }
  ]
}