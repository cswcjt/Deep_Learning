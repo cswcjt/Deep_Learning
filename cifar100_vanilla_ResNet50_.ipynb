{
  "nbformat": 4,
  "nbformat_minor": 0,
  "metadata": {
    "colab": {
      "provenance": [],
      "authorship_tag": "ABX9TyMKt230QrSehowz9U58deWS",
      "include_colab_link": true
    },
    "kernelspec": {
      "name": "python3",
      "display_name": "Python 3"
    },
    "language_info": {
      "name": "python"
    },
    "accelerator": "GPU",
    "gpuClass": "standard"
  },
  "cells": [
    {
      "cell_type": "markdown",
      "metadata": {
        "id": "view-in-github",
        "colab_type": "text"
      },
      "source": [
        "<a href=\"https://colab.research.google.com/github/cswcjt/Deep_Learning/blob/main/cifar100_vanilla_ResNet50_.ipynb\" target=\"_parent\"><img src=\"https://colab.research.google.com/assets/colab-badge.svg\" alt=\"Open In Colab\"/></a>"
      ]
    },
    {
      "cell_type": "markdown",
      "source": [
        " ### Citizen Developer 과정.\n",
        "\n",
        "> **Deep Learning Track. Mini PJT - CIFAR100 classification**\n",
        "\n",
        "\n",
        "저희는 수업시간에 CIFAR10을 분류하는 문제를 풀어보았습니다.\n",
        "\n",
        "이 때 까지 배운 모든 방법을 사용하여, CIFAR100 데이터셋을 100가지로 분류하는 문제를 풀어보세요.\n",
        "프로젝트를 수행할 때, 다음 조건들을 만족하여야 합니다.\n",
        "\n",
        "----\n",
        "\n",
        "1.  MLP, (Vanilla)CNN, ResNet50 중에 2개의 모델을 골라서 구현합니다.\n",
        "\n",
        "\n",
        "2. 각 모델을 design하여 (hyper-parameter를 세팅) 구현합니다.\n",
        "\n",
        "\n",
        "3. Validation Accuracy 기준 0.4를 넘기는 모델과 학습 세팅을 찾습니다.\n",
        "\n",
        "----\n",
        "\n",
        "> 모델을 구현하고 성능을 올리기 위한 팁들을 몇 가지 소개합니다.\n",
        "\n",
        "- learning rate가 optimization에 가장 큰 영향을 끼칩니다. 다양한 숫자를 테스트해보세요.\n",
        "\n",
        "\n",
        "- 처음에 학습이 잘되는 세팅을 찾기 위해서는 10 epoch 정도로 초반 학습 성능이 잘나오는지 확인하는게 중요합니다. (val acc도 포함)\n",
        "\n",
        "\n",
        "- 초반 학습 성능이 잘 나왔다면, epochs를 늘려서 학습이 잘되는지 확인합니다.\n",
        "\n",
        "\n",
        "- epoch를 늘려도 한계에 도달했다면, overfitting이 되었는지 아닌지 확인합니다.\n",
        "\n",
        "\n",
        "- overfitting이 되었다면, 여러 regularization 기법들이 도움이 될 겁니다. e.g. tensorflow.keras.layers.Dropout\n",
        "\n",
        "\n",
        "- batch size도 바꿔보세요. batch size가 full-batch에 가까울 수록, 속도는 느려지지만 optimizer의 방향은 최적의 값을 향합니다.\n",
        "\n",
        "\n",
        "- MLP나 CNN을 구현하고 있다면, 모델의 크기를 바꿔보세요. 파라미터가 많을 수록, 학습할 수 있는 정보가 많아집니다."
      ],
      "metadata": {
        "id": "oSPKgBBUGDuW"
      }
    },
    {
      "cell_type": "code",
      "source": [
        "# Import Libraries\n",
        "import numpy as np\n",
        "import tensorflow as tf\n",
        "import random\n",
        "import os\n",
        "\n",
        "# cifar100과 keras layer들 불러오기\n",
        "from tensorflow.keras.datasets import cifar100\n",
        "from tensorflow.keras.layers import Dense, Input, Flatten, Conv2D, MaxPool2D, Dropout\n",
        "from tensorflow.keras import Sequential"
      ],
      "metadata": {
        "id": "9FgEH3IkGGf8"
      },
      "execution_count": 1,
      "outputs": []
    },
    {
      "cell_type": "code",
      "source": [
        "## mini batch 데이터의 변경을 막기 위한 random seed 고정\n",
        "def seed_everything(seed: int = 42):\n",
        "    random.seed(seed)\n",
        "    np.random.seed(seed)\n",
        "    os.environ[\"PYTHONHASHSEED\"] = str(seed)\n",
        "    tf.random.set_seed(seed)\n",
        "    \n",
        "seed_everything(0xC0FFEE)"
      ],
      "metadata": {
        "id": "NtKqK837XBrv"
      },
      "execution_count": 2,
      "outputs": []
    },
    {
      "cell_type": "code",
      "source": [
        "# Load Datasets\n",
        "(X_train, y_train), (X_test, y_test) = cifar100.load_data()\n",
        "print(X_train.shape) # 4차원 Tensor\n",
        "print(X_test.shape)"
      ],
      "metadata": {
        "colab": {
          "base_uri": "https://localhost:8080/"
        },
        "id": "fJaXiMJ2GOHc",
        "outputId": "6000bc5e-3a45-4e70-aea4-f10ae7e620eb"
      },
      "execution_count": 3,
      "outputs": [
        {
          "output_type": "stream",
          "name": "stdout",
          "text": [
            "(50000, 32, 32, 3)\n",
            "(10000, 32, 32, 3)\n"
          ]
        }
      ]
    },
    {
      "cell_type": "markdown",
      "source": [
        "### Preprocessing\n",
        "\n",
        "1. Normalization (v)\n",
        "\n",
        "\n",
        "2. Standardization"
      ],
      "metadata": {
        "id": "5FA2SNqgHpt5"
      }
    },
    {
      "cell_type": "code",
      "source": [
        "preprocessing = \"standard\" # \"standard\"\n",
        "debug_mode = False"
      ],
      "metadata": {
        "id": "8S7_auJ3GiQI"
      },
      "execution_count": 4,
      "outputs": []
    },
    {
      "cell_type": "code",
      "source": [
        "# Normalization (Minmax scaling)\n",
        "if preprocessing == \"normalize\":\n",
        "    X_train = X_train.astype(np.float32) / 255.0\n",
        "    X_test = X_test.astype(np.float32) / 255."
      ],
      "metadata": {
        "id": "sHE0Dk5-Xaqt"
      },
      "execution_count": 5,
      "outputs": []
    },
    {
      "cell_type": "code",
      "source": [
        "# Standarization\n",
        "if preprocessing == \"standard\":\n",
        "    if debug_mode:\n",
        "        print(\"-- Before --\")\n",
        "        print(\"Training data\\n\", X_train[0])\n",
        "\n",
        "    img_mean = np.mean(X_train, axis=0)\n",
        "    img_std = np.std(X_train, axis=0)\n",
        "\n",
        "    if debug_mode:\n",
        "        print(img_mean.shape)\n",
        "        print(img_std.shape)\n",
        "\n",
        "        print(\"mean : \", np.mean(X_train)) # through data\n",
        "        print(\"std : \", np.std(X_train))\n",
        "\n",
        "    # Scaling\n",
        "    X_train = X_train.astype(np.float32) - img_mean\n",
        "    X_train = X_train.astype(np.float32) / img_std\n",
        "\n",
        "    if debug_mode:\n",
        "        print(\"\\n\\n-- After --\")\n",
        "        #print(\"Training data\\n\", X_train[0])\n",
        "        print(\"mean : \", np.mean(X_train))\n",
        "        print(\"std : \", np.std(X_train))\n",
        "    \n",
        "    # Scaling\n",
        "    X_test = X_test.astype(np.float32) - img_mean\n",
        "    X_test = X_test.astype(np.float32) / img_std"
      ],
      "metadata": {
        "id": "F_Uv8DO0Xod5"
      },
      "execution_count": 6,
      "outputs": []
    },
    {
      "cell_type": "code",
      "source": [
        "X_train[0]"
      ],
      "metadata": {
        "colab": {
          "base_uri": "https://localhost:8080/"
        },
        "id": "Nmuutum_XsTu",
        "outputId": "5d0e3187-a38c-48c0-f9e6-93275d22103d"
      },
      "execution_count": 7,
      "outputs": [
        {
          "output_type": "execute_result",
          "data": {
            "text/plain": [
              "array([[[ 1.53251193,  1.51296775,  1.44629107],\n",
              "        [ 1.55153995,  1.53377838,  1.46330664],\n",
              "        [ 1.54591772,  1.53056499,  1.45879109],\n",
              "        ...,\n",
              "        [ 0.77055431,  0.86360549,  0.70122931],\n",
              "        [ 0.99200195,  1.11709595,  0.83759357],\n",
              "        [ 0.6147392 ,  0.72577384,  0.39293219]],\n",
              "\n",
              "       [[ 1.55410443,  1.53796805,  1.46989723],\n",
              "        [ 1.56471202,  1.55032771,  1.47822947],\n",
              "        [ 1.56327365,  1.55217166,  1.47830967],\n",
              "        ...,\n",
              "        [ 0.4680204 ,  0.5008764 ,  0.19913396],\n",
              "        [ 0.35755549,  0.39788889, -0.04194801],\n",
              "        [ 0.16715592,  0.213365  , -0.24865682]],\n",
              "\n",
              "       [[ 1.56348386,  1.55198186,  1.4862925 ],\n",
              "        [ 1.57694682,  1.56863003,  1.49818036],\n",
              "        [ 1.59390365,  1.58947671,  1.5161559 ],\n",
              "        ...,\n",
              "        [ 0.72568033,  0.82667946,  0.45002623],\n",
              "        [ 0.42875599,  0.54280933, -0.03044805],\n",
              "        [-0.15475149, -0.06264002, -0.56121994]],\n",
              "\n",
              "       ...,\n",
              "\n",
              "       [[ 0.26914654,  0.81025376, -0.47233305],\n",
              "        [ 0.20957039,  0.80589112, -0.74917764],\n",
              "        [ 0.18516714,  0.77945005, -0.70835603],\n",
              "        ...,\n",
              "        [-1.32334716, -1.52664718, -1.5018074 ],\n",
              "        [-0.83818374, -0.88513003, -1.30916054],\n",
              "        [-0.68674138, -0.6768239 , -1.24219837]],\n",
              "\n",
              "       [[-0.0842574 ,  0.41150935, -0.6466115 ],\n",
              "        [-0.09816303,  0.40880214, -0.73981459],\n",
              "        [-0.02051041,  0.48461057, -0.56838745],\n",
              "        ...,\n",
              "        [-1.43313289, -1.54145868, -1.47677134],\n",
              "        [-0.40933884, -0.19105953, -0.76603944],\n",
              "        [ 0.18119164,  0.48222709, -0.36080268]],\n",
              "\n",
              "       [[-0.55194976, -0.07853356, -0.97734185],\n",
              "        [-0.53817686, -0.06754838, -1.00186273],\n",
              "        [-0.37405539,  0.09569437, -0.7837146 ],\n",
              "        ...,\n",
              "        [-1.27988424, -1.27022379, -1.3953971 ],\n",
              "        [-0.31169136,  0.08633714, -0.73839409],\n",
              "        [ 0.13212066,  0.63384494, -0.47497975]]])"
            ]
          },
          "metadata": {},
          "execution_count": 7
        }
      ]
    },
    {
      "cell_type": "markdown",
      "source": [
        "### Training with Vanilla CNN\n",
        "\n",
        "**Model Architecture**\n",
        "\n",
        "> Conv - Relu - Conv - Relu - FC - FC"
      ],
      "metadata": {
        "id": "zpZq5GPLHsih"
      }
    },
    {
      "cell_type": "code",
      "source": [
        "# 위의 Vanilla CNN 구조를 직접 구현해봅니다.\n",
        "# filters는 주로 늘려간다 --> flatten에 들어갈 정보를 많이 확보하기 위해서.\n",
        "\n",
        "model = Sequential([\n",
        "    Input(shape=(32, 32, 3)),\n",
        "    Conv2D(filters=8, kernel_size=3, strides=1, padding='same', activation='relu'),\n",
        "    Conv2D(filters=16, kernel_size=3, strides=1, padding='same', activation='relu'),\n",
        "    MaxPool2D(pool_size=2),\n",
        "    Conv2D(24, 3, 1, padding='same', activation='relu'),\n",
        "    Conv2D(48, 3, 1, padding='same', activation='relu'),\n",
        "    MaxPool2D(2),\n",
        "    Flatten(),\n",
        "    Dropout(0.2), # 오버피팅 막는 방법 중 하나\n",
        "    Dense(1024, activation='relu'),\n",
        "    Dropout(0.2),\n",
        "    Dense(100, activation='softmax') # softmax\n",
        "])\n",
        "\n",
        "model.summary()"
      ],
      "metadata": {
        "colab": {
          "base_uri": "https://localhost:8080/"
        },
        "id": "o1iQgAMOHtOv",
        "outputId": "c23c3a53-5d5a-45b0-8885-5e07374016f0"
      },
      "execution_count": 8,
      "outputs": [
        {
          "output_type": "stream",
          "name": "stdout",
          "text": [
            "Model: \"sequential\"\n",
            "_________________________________________________________________\n",
            " Layer (type)                Output Shape              Param #   \n",
            "=================================================================\n",
            " conv2d (Conv2D)             (None, 32, 32, 8)         224       \n",
            "                                                                 \n",
            " conv2d_1 (Conv2D)           (None, 32, 32, 16)        1168      \n",
            "                                                                 \n",
            " max_pooling2d (MaxPooling2D  (None, 16, 16, 16)       0         \n",
            " )                                                               \n",
            "                                                                 \n",
            " conv2d_2 (Conv2D)           (None, 16, 16, 24)        3480      \n",
            "                                                                 \n",
            " conv2d_3 (Conv2D)           (None, 16, 16, 48)        10416     \n",
            "                                                                 \n",
            " max_pooling2d_1 (MaxPooling  (None, 8, 8, 48)         0         \n",
            " 2D)                                                             \n",
            "                                                                 \n",
            " flatten (Flatten)           (None, 3072)              0         \n",
            "                                                                 \n",
            " dropout (Dropout)           (None, 3072)              0         \n",
            "                                                                 \n",
            " dense (Dense)               (None, 1024)              3146752   \n",
            "                                                                 \n",
            " dropout_1 (Dropout)         (None, 1024)              0         \n",
            "                                                                 \n",
            " dense_1 (Dense)             (None, 100)               102500    \n",
            "                                                                 \n",
            "=================================================================\n",
            "Total params: 3,264,540\n",
            "Trainable params: 3,264,540\n",
            "Non-trainable params: 0\n",
            "_________________________________________________________________\n"
          ]
        }
      ]
    },
    {
      "cell_type": "code",
      "source": [
        "# training setup\n",
        "from tensorflow.keras.optimizers import SGD, Adam\n",
        "from tensorflow.keras.callbacks import LearningRateScheduler, ModelCheckpoint\n",
        "\n",
        "# val_loss 기준 체크포인터도 생성합니다.\n",
        "cnn_filename = \"CNN_best_model.ckpt\"\n",
        "checkpoint = ModelCheckpoint(cnn_filename, \n",
        "                             save_weights_only=True,\n",
        "                             save_best_only=True,\n",
        "                             monitor='val_loss',\n",
        "                             verbose=1)\n",
        "\n",
        "\n",
        "## config variables\n",
        "batch_size = 258\n",
        "lr = 1e-3\n",
        "epochs = 30\n",
        "\n",
        "# learning rate를 업데이트 해보려고 합니다: def scheduler --> epoch 기준으로 learning rate 바꾸는 함수를 정의\n",
        "# ReduceLROnPlateau --> validation 기준으로 learning rate 바꾸는 방식\n",
        "def scheduler(epoch, learning_rate):\n",
        "    if epoch < 25:\n",
        "        return learning_rate\n",
        "    elif epoch < 50:\n",
        "        return lr/10\n",
        "    elif epoch < 75:\n",
        "        return lr/50\n",
        "    else:\n",
        "        return lr/100    \n",
        "\n",
        "# Set optimizer, loss function, metrics, callback function\n",
        "#optimizer = SGD(learning_rate=lr, momentum=0.9) # Momentum optimizer \n",
        "optimizer = Adam(learning_rate=lr)\n",
        "loss_fn = 'sparse_categorical_crossentropy' # multi-class classification\n",
        "metrics = ['accuracy']\n",
        "lr_callback = LearningRateScheduler(scheduler)\n",
        "\n",
        "model.compile(optimizer=optimizer,\n",
        "              loss=loss_fn,\n",
        "              metrics=metrics)"
      ],
      "metadata": {
        "id": "oI--IaxaYGcR"
      },
      "execution_count": 9,
      "outputs": []
    },
    {
      "cell_type": "code",
      "source": [
        "# model training\n",
        "# 한번만 직접 해봅시다!\n",
        "\n",
        "history = model.fit(x=X_train,\n",
        "                    y=y_train,\n",
        "                    batch_size=batch_size,\n",
        "                    epochs=epochs,\n",
        "                    verbose=2,\n",
        "                    callbacks=[lr_callback, checkpoint],\n",
        "                    validation_data=(X_test, y_test))"
      ],
      "metadata": {
        "colab": {
          "base_uri": "https://localhost:8080/"
        },
        "id": "RSK_bUuGHy2U",
        "outputId": "e2abaf6b-a993-4599-9161-05b9204eaa59"
      },
      "execution_count": 10,
      "outputs": [
        {
          "output_type": "stream",
          "name": "stdout",
          "text": [
            "Epoch 1/30\n",
            "\n",
            "Epoch 1: val_loss improved from inf to 3.16603, saving model to CNN_best_model.ckpt\n",
            "194/194 - 12s - loss: 3.6831 - accuracy: 0.1524 - val_loss: 3.1660 - val_accuracy: 0.2430 - lr: 0.0010 - 12s/epoch - 64ms/step\n",
            "Epoch 2/30\n",
            "\n",
            "Epoch 2: val_loss improved from 3.16603 to 2.74581, saving model to CNN_best_model.ckpt\n",
            "194/194 - 3s - loss: 2.9171 - accuracy: 0.2867 - val_loss: 2.7458 - val_accuracy: 0.3209 - lr: 0.0010 - 3s/epoch - 14ms/step\n",
            "Epoch 3/30\n",
            "\n",
            "Epoch 3: val_loss improved from 2.74581 to 2.58909, saving model to CNN_best_model.ckpt\n",
            "194/194 - 3s - loss: 2.5095 - accuracy: 0.3667 - val_loss: 2.5891 - val_accuracy: 0.3515 - lr: 0.0010 - 3s/epoch - 14ms/step\n",
            "Epoch 4/30\n",
            "\n",
            "Epoch 4: val_loss improved from 2.58909 to 2.48285, saving model to CNN_best_model.ckpt\n",
            "194/194 - 3s - loss: 2.2051 - accuracy: 0.4295 - val_loss: 2.4829 - val_accuracy: 0.3794 - lr: 0.0010 - 3s/epoch - 14ms/step\n",
            "Epoch 5/30\n",
            "\n",
            "Epoch 5: val_loss improved from 2.48285 to 2.45790, saving model to CNN_best_model.ckpt\n",
            "194/194 - 3s - loss: 1.9183 - accuracy: 0.4885 - val_loss: 2.4579 - val_accuracy: 0.3918 - lr: 0.0010 - 3s/epoch - 14ms/step\n",
            "Epoch 6/30\n",
            "\n",
            "Epoch 6: val_loss did not improve from 2.45790\n",
            "194/194 - 3s - loss: 1.6349 - accuracy: 0.5563 - val_loss: 2.4594 - val_accuracy: 0.3956 - lr: 0.0010 - 3s/epoch - 13ms/step\n",
            "Epoch 7/30\n",
            "\n",
            "Epoch 7: val_loss did not improve from 2.45790\n",
            "194/194 - 3s - loss: 1.3712 - accuracy: 0.6179 - val_loss: 2.5233 - val_accuracy: 0.3975 - lr: 0.0010 - 3s/epoch - 14ms/step\n",
            "Epoch 8/30\n",
            "\n",
            "Epoch 8: val_loss did not improve from 2.45790\n",
            "194/194 - 3s - loss: 1.1149 - accuracy: 0.6798 - val_loss: 2.6843 - val_accuracy: 0.3929 - lr: 0.0010 - 3s/epoch - 14ms/step\n",
            "Epoch 9/30\n",
            "\n",
            "Epoch 9: val_loss did not improve from 2.45790\n",
            "194/194 - 3s - loss: 0.9032 - accuracy: 0.7343 - val_loss: 2.8237 - val_accuracy: 0.3877 - lr: 0.0010 - 3s/epoch - 13ms/step\n",
            "Epoch 10/30\n",
            "\n",
            "Epoch 10: val_loss did not improve from 2.45790\n",
            "194/194 - 3s - loss: 0.7335 - accuracy: 0.7805 - val_loss: 2.9311 - val_accuracy: 0.3889 - lr: 0.0010 - 3s/epoch - 14ms/step\n",
            "Epoch 11/30\n",
            "\n",
            "Epoch 11: val_loss did not improve from 2.45790\n",
            "194/194 - 3s - loss: 0.6081 - accuracy: 0.8130 - val_loss: 3.1732 - val_accuracy: 0.3850 - lr: 0.0010 - 3s/epoch - 13ms/step\n",
            "Epoch 12/30\n",
            "\n",
            "Epoch 12: val_loss did not improve from 2.45790\n",
            "194/194 - 3s - loss: 0.5165 - accuracy: 0.8396 - val_loss: 3.3189 - val_accuracy: 0.3896 - lr: 0.0010 - 3s/epoch - 13ms/step\n",
            "Epoch 13/30\n",
            "\n",
            "Epoch 13: val_loss did not improve from 2.45790\n",
            "194/194 - 3s - loss: 0.4417 - accuracy: 0.8629 - val_loss: 3.3641 - val_accuracy: 0.3915 - lr: 0.0010 - 3s/epoch - 13ms/step\n",
            "Epoch 14/30\n",
            "\n",
            "Epoch 14: val_loss did not improve from 2.45790\n",
            "194/194 - 3s - loss: 0.3959 - accuracy: 0.8764 - val_loss: 3.5162 - val_accuracy: 0.3889 - lr: 0.0010 - 3s/epoch - 15ms/step\n",
            "Epoch 15/30\n",
            "\n",
            "Epoch 15: val_loss did not improve from 2.45790\n",
            "194/194 - 3s - loss: 0.3440 - accuracy: 0.8922 - val_loss: 3.6657 - val_accuracy: 0.3909 - lr: 0.0010 - 3s/epoch - 14ms/step\n",
            "Epoch 16/30\n",
            "\n",
            "Epoch 16: val_loss did not improve from 2.45790\n",
            "194/194 - 3s - loss: 0.3181 - accuracy: 0.8993 - val_loss: 3.6929 - val_accuracy: 0.3918 - lr: 0.0010 - 3s/epoch - 14ms/step\n",
            "Epoch 17/30\n",
            "\n",
            "Epoch 17: val_loss did not improve from 2.45790\n",
            "194/194 - 3s - loss: 0.2976 - accuracy: 0.9052 - val_loss: 3.7280 - val_accuracy: 0.3862 - lr: 0.0010 - 3s/epoch - 14ms/step\n",
            "Epoch 18/30\n",
            "\n",
            "Epoch 18: val_loss did not improve from 2.45790\n",
            "194/194 - 3s - loss: 0.2706 - accuracy: 0.9148 - val_loss: 3.9035 - val_accuracy: 0.3839 - lr: 0.0010 - 3s/epoch - 13ms/step\n",
            "Epoch 19/30\n",
            "\n",
            "Epoch 19: val_loss did not improve from 2.45790\n",
            "194/194 - 3s - loss: 0.2499 - accuracy: 0.9208 - val_loss: 3.9358 - val_accuracy: 0.3859 - lr: 0.0010 - 3s/epoch - 13ms/step\n",
            "Epoch 20/30\n",
            "\n",
            "Epoch 20: val_loss did not improve from 2.45790\n",
            "194/194 - 3s - loss: 0.2492 - accuracy: 0.9214 - val_loss: 4.0411 - val_accuracy: 0.3848 - lr: 0.0010 - 3s/epoch - 13ms/step\n",
            "Epoch 21/30\n",
            "\n",
            "Epoch 21: val_loss did not improve from 2.45790\n",
            "194/194 - 3s - loss: 0.2387 - accuracy: 0.9245 - val_loss: 4.0629 - val_accuracy: 0.3828 - lr: 0.0010 - 3s/epoch - 13ms/step\n",
            "Epoch 22/30\n",
            "\n",
            "Epoch 22: val_loss did not improve from 2.45790\n",
            "194/194 - 3s - loss: 0.2305 - accuracy: 0.9273 - val_loss: 4.0553 - val_accuracy: 0.3844 - lr: 0.0010 - 3s/epoch - 13ms/step\n",
            "Epoch 23/30\n",
            "\n",
            "Epoch 23: val_loss did not improve from 2.45790\n",
            "194/194 - 3s - loss: 0.2055 - accuracy: 0.9341 - val_loss: 4.1335 - val_accuracy: 0.3859 - lr: 0.0010 - 3s/epoch - 14ms/step\n",
            "Epoch 24/30\n",
            "\n",
            "Epoch 24: val_loss did not improve from 2.45790\n",
            "194/194 - 3s - loss: 0.2031 - accuracy: 0.9359 - val_loss: 4.0379 - val_accuracy: 0.3895 - lr: 0.0010 - 3s/epoch - 14ms/step\n",
            "Epoch 25/30\n",
            "\n",
            "Epoch 25: val_loss did not improve from 2.45790\n",
            "194/194 - 3s - loss: 0.1965 - accuracy: 0.9380 - val_loss: 4.1751 - val_accuracy: 0.3833 - lr: 0.0010 - 3s/epoch - 14ms/step\n",
            "Epoch 26/30\n",
            "\n",
            "Epoch 26: val_loss did not improve from 2.45790\n",
            "194/194 - 3s - loss: 0.1204 - accuracy: 0.9617 - val_loss: 4.1718 - val_accuracy: 0.3927 - lr: 1.0000e-04 - 3s/epoch - 13ms/step\n",
            "Epoch 27/30\n",
            "\n",
            "Epoch 27: val_loss did not improve from 2.45790\n",
            "194/194 - 3s - loss: 0.0970 - accuracy: 0.9697 - val_loss: 4.2470 - val_accuracy: 0.3924 - lr: 1.0000e-04 - 3s/epoch - 13ms/step\n",
            "Epoch 28/30\n",
            "\n",
            "Epoch 28: val_loss did not improve from 2.45790\n",
            "194/194 - 3s - loss: 0.0884 - accuracy: 0.9714 - val_loss: 4.2793 - val_accuracy: 0.3950 - lr: 1.0000e-04 - 3s/epoch - 13ms/step\n",
            "Epoch 29/30\n",
            "\n",
            "Epoch 29: val_loss did not improve from 2.45790\n",
            "194/194 - 3s - loss: 0.0854 - accuracy: 0.9726 - val_loss: 4.3238 - val_accuracy: 0.3988 - lr: 1.0000e-04 - 3s/epoch - 16ms/step\n",
            "Epoch 30/30\n",
            "\n",
            "Epoch 30: val_loss did not improve from 2.45790\n",
            "194/194 - 3s - loss: 0.0782 - accuracy: 0.9758 - val_loss: 4.3663 - val_accuracy: 0.3988 - lr: 1.0000e-04 - 3s/epoch - 14ms/step\n"
          ]
        }
      ]
    },
    {
      "cell_type": "code",
      "source": [
        "# evaluate\n",
        "loss, acc = model.evaluate(X_test, y_test, batch_size=batch_size)\n",
        "print(\"Loss : %.4f, Accuracy : %.4f\" % (loss, acc))"
      ],
      "metadata": {
        "colab": {
          "base_uri": "https://localhost:8080/"
        },
        "id": "T_4P7yh7H3Sy",
        "outputId": "ab1bfb20-a8a0-4e60-9a9e-bdb0048a70cf"
      },
      "execution_count": 11,
      "outputs": [
        {
          "output_type": "stream",
          "name": "stdout",
          "text": [
            "39/39 [==============================] - 0s 7ms/step - loss: 4.3663 - accuracy: 0.3988\n",
            "Loss : 4.3663, Accuracy : 0.3988\n"
          ]
        }
      ]
    },
    {
      "cell_type": "code",
      "source": [
        "## loss visualize\n",
        "import matplotlib.pyplot as plt\n",
        "\n",
        "plt.figure(figsize=(8,4))\n",
        "plt.subplot(1, 2,1)\n",
        "plt.plot(history.history['loss'],'b-', label = \"training\")\n",
        "plt.plot(history.history['val_loss'], 'r:', label = \"validation\")\n",
        "plt.title(\"model - loss\")\n",
        "plt.legend()\n",
        "\n",
        "plt.subplot(1, 2, 2)\n",
        "plt.title(\"model - accuracy\")\n",
        "\n",
        "plt.plot(history.history['accuracy'], 'b-', label = \"training\")\n",
        "plt.plot(history.history['val_accuracy'], 'r:', label = \"validation\")\n",
        "\n",
        "plt.legend()\n",
        "plt.tight_layout()\n",
        "plt.show()"
      ],
      "metadata": {
        "colab": {
          "base_uri": "https://localhost:8080/",
          "height": 297
        },
        "id": "jzsj1vkXH5Wk",
        "outputId": "cf3e8753-dd4d-4526-ff20-21001f254ec5"
      },
      "execution_count": 12,
      "outputs": [
        {
          "output_type": "display_data",
          "data": {
            "text/plain": [
              "<Figure size 576x288 with 2 Axes>"
            ],
            "image/png": "[encoded data removed]"
          },
          "metadata": {
            "needs_background": "light"
          }
        }
      ]
    },
    {
      "cell_type": "markdown",
      "source": [
        "### 이번엔 ResNet50를 사용해봅시다.\n",
        "\n",
        "- ResNet50을 사용하기 위해서는 keras에 구현되어 있는 ResNet50 구조를 가져옵니다.\n",
        "\n",
        "- pretrained를 가져오는 경우도 있지만, 지금은 ImageNet 세팅이 아니므로 구조만 가져옵니다.(input이 완전히 다름)\n",
        "\n",
        "- Reference : https://keras.io/api/applications/resnet/#resnet50-function"
      ],
      "metadata": {
        "id": "z5vtDB9SIlqh"
      }
    },
    {
      "cell_type": "code",
      "source": [
        "# load ResNet50\n",
        "from tensorflow.keras.applications import ResNet50\n",
        "\n",
        "resnet = ResNet50(\n",
        "    include_top=True,        # classification : True,  embedding : False\n",
        "    weights=None,             # ImageNet pretrained : True, else : None\n",
        "    input_shape=(32, 32, 3),  # if not pretrained, you must specify.\n",
        "    pooling='max',\n",
        "    classes=100,               # number of classes\n",
        "    classifier_activation='softmax'    # output function\n",
        ")"
      ],
      "metadata": {
        "id": "tWzXO5XcZiNQ"
      },
      "execution_count": 13,
      "outputs": []
    },
    {
      "cell_type": "code",
      "source": [
        "# see ResNet50 model\n",
        "#resnet.summary()"
      ],
      "metadata": {
        "id": "SwB9TZILZkSB"
      },
      "execution_count": 14,
      "outputs": []
    },
    {
      "cell_type": "code",
      "source": [
        "### resnet training strategy\n",
        "# val_loss 기준 체크포인터도 생성합니다.\n",
        "resnet_filename = \"resnet_best_model.ckpt\"\n",
        "checkpoint = ModelCheckpoint(resnet_filename, \n",
        "                             save_weights_only=True,\n",
        "                             save_best_only=True,\n",
        "                             monitor='val_loss',\n",
        "                             verbose=1)\n",
        "\n",
        "\n",
        "## config variables\n",
        "batch_size = 64\n",
        "lr = 5e-3\n",
        "epochs = 30\n",
        "\n",
        "# learning rate를 업데이트 해보려고 합니다\n",
        "def scheduler(epoch, learning_rate):\n",
        "    if epoch < 5:\n",
        "        return learning_rate\n",
        "    elif epoch < 10:\n",
        "        return lr/10\n",
        "    elif epoch < 15:\n",
        "        return lr/50\n",
        "    else:\n",
        "        return lr/100\n",
        "    \n",
        "#optimizer = SGD(learning_rate=lr, momentum=0.9)\n",
        "optimizer = Adam(learning_rate=lr)\n",
        "loss_fn = 'sparse_categorical_crossentropy'\n",
        "metrics = ['accuracy']\n",
        "\n",
        "resnet.compile(optimizer=optimizer,\n",
        "               loss=loss_fn,\n",
        "               metrics=metrics)"
      ],
      "metadata": {
        "id": "qtv1BH0FZlwS"
      },
      "execution_count": 15,
      "outputs": []
    },
    {
      "cell_type": "code",
      "source": [
        "# training ResNet50\n",
        "resnet_history = resnet.fit(X_train, y_train,\n",
        "                            batch_size=batch_size,\n",
        "                            epochs=epochs,\n",
        "                            validation_data=(X_test, y_test),\n",
        "                            callbacks=[lr_callback, checkpoint],\n",
        "                            verbose=1)"
      ],
      "metadata": {
        "colab": {
          "base_uri": "https://localhost:8080/"
        },
        "id": "UMJO-5q3ZoJ5",
        "outputId": "6e9199c5-b018-4ac1-f79a-63a30aafd1ac"
      },
      "execution_count": 16,
      "outputs": [
        {
          "output_type": "stream",
          "name": "stdout",
          "text": [
            "Epoch 1/30\n",
            "782/782 [==============================] - ETA: 0s - loss: 5.0467 - accuracy: 0.0252\n",
            "Epoch 1: val_loss improved from inf to 4.50041, saving model to resnet_best_model.ckpt\n",
            "782/782 [==============================] - 45s 50ms/step - loss: 5.0467 - accuracy: 0.0252 - val_loss: 4.5004 - val_accuracy: 0.0299 - lr: 0.0050\n",
            "Epoch 2/30\n",
            "781/782 [============================>.] - ETA: 0s - loss: 4.1039 - accuracy: 0.0560\n",
            "Epoch 2: val_loss improved from 4.50041 to 4.23596, saving model to resnet_best_model.ckpt\n",
            "782/782 [==============================] - 37s 48ms/step - loss: 4.1037 - accuracy: 0.0561 - val_loss: 4.2360 - val_accuracy: 0.0596 - lr: 0.0050\n",
            "Epoch 3/30\n",
            "781/782 [============================>.] - ETA: 0s - loss: 3.8511 - accuracy: 0.0939\n",
            "Epoch 3: val_loss improved from 4.23596 to 3.75589, saving model to resnet_best_model.ckpt\n",
            "782/782 [==============================] - 38s 49ms/step - loss: 3.8511 - accuracy: 0.0939 - val_loss: 3.7559 - val_accuracy: 0.1054 - lr: 0.0050\n",
            "Epoch 4/30\n",
            "782/782 [==============================] - ETA: 0s - loss: 3.6271 - accuracy: 0.1304\n",
            "Epoch 4: val_loss did not improve from 3.75589\n",
            "782/782 [==============================] - 37s 48ms/step - loss: 3.6271 - accuracy: 0.1304 - val_loss: 4.2218 - val_accuracy: 0.1369 - lr: 0.0050\n",
            "Epoch 5/30\n",
            "782/782 [==============================] - ETA: 0s - loss: 3.3815 - accuracy: 0.1709\n",
            "Epoch 5: val_loss did not improve from 3.75589\n",
            "782/782 [==============================] - 37s 47ms/step - loss: 3.3815 - accuracy: 0.1709 - val_loss: 8.0309 - val_accuracy: 0.1655 - lr: 0.0050\n",
            "Epoch 6/30\n",
            "781/782 [============================>.] - ETA: 0s - loss: 3.2320 - accuracy: 0.2032\n",
            "Epoch 6: val_loss did not improve from 3.75589\n",
            "782/782 [==============================] - 37s 47ms/step - loss: 3.2321 - accuracy: 0.2032 - val_loss: 3.9642 - val_accuracy: 0.1167 - lr: 0.0050\n",
            "Epoch 7/30\n",
            "781/782 [============================>.] - ETA: 0s - loss: 3.0365 - accuracy: 0.2389\n",
            "Epoch 7: val_loss improved from 3.75589 to 3.10802, saving model to resnet_best_model.ckpt\n",
            "782/782 [==============================] - 38s 48ms/step - loss: 3.0366 - accuracy: 0.2389 - val_loss: 3.1080 - val_accuracy: 0.2484 - lr: 0.0050\n",
            "Epoch 8/30\n",
            "781/782 [============================>.] - ETA: 0s - loss: 2.8510 - accuracy: 0.2764\n",
            "Epoch 8: val_loss did not improve from 3.10802\n",
            "782/782 [==============================] - 36s 47ms/step - loss: 2.8515 - accuracy: 0.2763 - val_loss: 14.6600 - val_accuracy: 0.1149 - lr: 0.0050\n",
            "Epoch 9/30\n",
            "781/782 [============================>.] - ETA: 0s - loss: 3.0372 - accuracy: 0.2446\n",
            "Epoch 9: val_loss did not improve from 3.10802\n",
            "782/782 [==============================] - 36s 47ms/step - loss: 3.0374 - accuracy: 0.2446 - val_loss: 3.3160 - val_accuracy: 0.2030 - lr: 0.0050\n",
            "Epoch 10/30\n",
            "782/782 [==============================] - ETA: 0s - loss: 3.1103 - accuracy: 0.2309\n",
            "Epoch 10: val_loss did not improve from 3.10802\n",
            "782/782 [==============================] - 36s 47ms/step - loss: 3.1103 - accuracy: 0.2309 - val_loss: 5.5720 - val_accuracy: 0.2239 - lr: 0.0050\n",
            "Epoch 11/30\n",
            "782/782 [==============================] - ETA: 0s - loss: 2.8190 - accuracy: 0.2834\n",
            "Epoch 11: val_loss did not improve from 3.10802\n",
            "782/782 [==============================] - 37s 47ms/step - loss: 2.8190 - accuracy: 0.2834 - val_loss: 5.7442 - val_accuracy: 0.2847 - lr: 0.0050\n",
            "Epoch 12/30\n",
            "781/782 [============================>.] - ETA: 0s - loss: 2.7518 - accuracy: 0.2965\n",
            "Epoch 12: val_loss did not improve from 3.10802\n",
            "782/782 [==============================] - 37s 48ms/step - loss: 2.7521 - accuracy: 0.2965 - val_loss: 13.4187 - val_accuracy: 0.0585 - lr: 0.0050\n",
            "Epoch 13/30\n",
            "781/782 [============================>.] - ETA: 0s - loss: 2.8368 - accuracy: 0.2785\n",
            "Epoch 13: val_loss improved from 3.10802 to 2.96686, saving model to resnet_best_model.ckpt\n",
            "782/782 [==============================] - 38s 48ms/step - loss: 2.8368 - accuracy: 0.2785 - val_loss: 2.9669 - val_accuracy: 0.2985 - lr: 0.0050\n",
            "Epoch 14/30\n",
            "781/782 [============================>.] - ETA: 0s - loss: 2.7426 - accuracy: 0.3020\n",
            "Epoch 14: val_loss did not improve from 2.96686\n",
            "782/782 [==============================] - 37s 47ms/step - loss: 2.7429 - accuracy: 0.3019 - val_loss: 3.1062 - val_accuracy: 0.2659 - lr: 0.0050\n",
            "Epoch 15/30\n",
            "782/782 [==============================] - ETA: 0s - loss: 2.5461 - accuracy: 0.3388\n",
            "Epoch 15: val_loss improved from 2.96686 to 2.82645, saving model to resnet_best_model.ckpt\n",
            "782/782 [==============================] - 38s 48ms/step - loss: 2.5461 - accuracy: 0.3388 - val_loss: 2.8264 - val_accuracy: 0.3160 - lr: 0.0050\n",
            "Epoch 16/30\n",
            "782/782 [==============================] - ETA: 0s - loss: 2.4839 - accuracy: 0.3522\n",
            "Epoch 16: val_loss improved from 2.82645 to 2.80528, saving model to resnet_best_model.ckpt\n",
            "782/782 [==============================] - 38s 48ms/step - loss: 2.4839 - accuracy: 0.3522 - val_loss: 2.8053 - val_accuracy: 0.3304 - lr: 0.0050\n",
            "Epoch 17/30\n",
            "781/782 [============================>.] - ETA: 0s - loss: 2.3555 - accuracy: 0.3779\n",
            "Epoch 17: val_loss improved from 2.80528 to 2.54615, saving model to resnet_best_model.ckpt\n",
            "782/782 [==============================] - 38s 48ms/step - loss: 2.3555 - accuracy: 0.3779 - val_loss: 2.5462 - val_accuracy: 0.3603 - lr: 0.0050\n",
            "Epoch 18/30\n",
            "782/782 [==============================] - ETA: 0s - loss: 2.2284 - accuracy: 0.4035\n",
            "Epoch 18: val_loss improved from 2.54615 to 2.54149, saving model to resnet_best_model.ckpt\n",
            "782/782 [==============================] - 38s 48ms/step - loss: 2.2284 - accuracy: 0.4035 - val_loss: 2.5415 - val_accuracy: 0.3546 - lr: 0.0050\n",
            "Epoch 19/30\n",
            "782/782 [==============================] - ETA: 0s - loss: 2.1036 - accuracy: 0.4311\n",
            "Epoch 19: val_loss did not improve from 2.54149\n",
            "782/782 [==============================] - 36s 47ms/step - loss: 2.1036 - accuracy: 0.4311 - val_loss: 3.1372 - val_accuracy: 0.3761 - lr: 0.0050\n",
            "Epoch 20/30\n",
            "782/782 [==============================] - ETA: 0s - loss: 2.1246 - accuracy: 0.4288\n",
            "Epoch 20: val_loss improved from 2.54149 to 2.51588, saving model to resnet_best_model.ckpt\n",
            "782/782 [==============================] - 38s 49ms/step - loss: 2.1246 - accuracy: 0.4288 - val_loss: 2.5159 - val_accuracy: 0.3837 - lr: 0.0050\n",
            "Epoch 21/30\n",
            "781/782 [============================>.] - ETA: 0s - loss: 1.8558 - accuracy: 0.4879\n",
            "Epoch 21: val_loss did not improve from 2.51588\n",
            "782/782 [==============================] - 37s 47ms/step - loss: 1.8560 - accuracy: 0.4878 - val_loss: 94.1603 - val_accuracy: 0.3107 - lr: 0.0050\n",
            "Epoch 22/30\n",
            "781/782 [============================>.] - ETA: 0s - loss: 1.7309 - accuracy: 0.5142\n",
            "Epoch 22: val_loss did not improve from 2.51588\n",
            "782/782 [==============================] - 37s 47ms/step - loss: 1.7310 - accuracy: 0.5141 - val_loss: 2.6016 - val_accuracy: 0.3914 - lr: 0.0050\n",
            "Epoch 23/30\n",
            "781/782 [============================>.] - ETA: 0s - loss: 1.6108 - accuracy: 0.5426\n",
            "Epoch 23: val_loss did not improve from 2.51588\n",
            "782/782 [==============================] - 37s 47ms/step - loss: 1.6108 - accuracy: 0.5426 - val_loss: 2.6033 - val_accuracy: 0.4054 - lr: 0.0050\n",
            "Epoch 24/30\n",
            "781/782 [============================>.] - ETA: 0s - loss: 1.4769 - accuracy: 0.5747\n",
            "Epoch 24: val_loss did not improve from 2.51588\n",
            "782/782 [==============================] - 36s 47ms/step - loss: 1.4771 - accuracy: 0.5746 - val_loss: 2.5361 - val_accuracy: 0.4120 - lr: 0.0050\n",
            "Epoch 25/30\n",
            "782/782 [==============================] - ETA: 0s - loss: 1.3105 - accuracy: 0.6159\n",
            "Epoch 25: val_loss did not improve from 2.51588\n",
            "782/782 [==============================] - 36s 46ms/step - loss: 1.3105 - accuracy: 0.6159 - val_loss: 2.7616 - val_accuracy: 0.3934 - lr: 0.0050\n",
            "Epoch 26/30\n",
            "781/782 [============================>.] - ETA: 0s - loss: 0.8311 - accuracy: 0.7519\n",
            "Epoch 26: val_loss improved from 2.51588 to 2.46406, saving model to resnet_best_model.ckpt\n",
            "782/782 [==============================] - 37s 48ms/step - loss: 0.8312 - accuracy: 0.7519 - val_loss: 2.4641 - val_accuracy: 0.4481 - lr: 5.0000e-04\n",
            "Epoch 27/30\n",
            "782/782 [==============================] - ETA: 0s - loss: 0.6670 - accuracy: 0.7992\n",
            "Epoch 27: val_loss did not improve from 2.46406\n",
            "782/782 [==============================] - 36s 46ms/step - loss: 0.6670 - accuracy: 0.7992 - val_loss: 2.5831 - val_accuracy: 0.4508 - lr: 5.0000e-04\n",
            "Epoch 28/30\n",
            "782/782 [==============================] - ETA: 0s - loss: 0.5746 - accuracy: 0.8269\n",
            "Epoch 28: val_loss did not improve from 2.46406\n",
            "782/782 [==============================] - 36s 46ms/step - loss: 0.5746 - accuracy: 0.8269 - val_loss: 2.7235 - val_accuracy: 0.4466 - lr: 5.0000e-04\n",
            "Epoch 29/30\n",
            "781/782 [============================>.] - ETA: 0s - loss: 0.4991 - accuracy: 0.8470\n",
            "Epoch 29: val_loss did not improve from 2.46406\n",
            "782/782 [==============================] - 37s 47ms/step - loss: 0.4993 - accuracy: 0.8469 - val_loss: 2.8426 - val_accuracy: 0.4470 - lr: 5.0000e-04\n",
            "Epoch 30/30\n",
            "782/782 [==============================] - ETA: 0s - loss: 0.4367 - accuracy: 0.8669\n",
            "Epoch 30: val_loss did not improve from 2.46406\n",
            "782/782 [==============================] - 36s 46ms/step - loss: 0.4367 - accuracy: 0.8669 - val_loss: 2.9713 - val_accuracy: 0.4454 - lr: 5.0000e-04\n"
          ]
        }
      ]
    },
    {
      "cell_type": "code",
      "source": [
        "# evaluate\n",
        "loss, acc = resnet.evaluate(X_test, y_test, batch_size=batch_size)\n",
        "print(\"Loss : %.4f, Accuracy : %.4f\" % (loss, acc))"
      ],
      "metadata": {
        "colab": {
          "base_uri": "https://localhost:8080/"
        },
        "id": "lQIbyMy3ZrFW",
        "outputId": "85be1900-1d33-4077-8c04-f06a318d49a8"
      },
      "execution_count": 17,
      "outputs": [
        {
          "output_type": "stream",
          "name": "stdout",
          "text": [
            "157/157 [==============================] - 2s 15ms/step - loss: 2.9713 - accuracy: 0.4454\n",
            "Loss : 2.9713, Accuracy : 0.4454\n"
          ]
        }
      ]
    },
    {
      "cell_type": "code",
      "source": [
        "## loss visualize\n",
        "import matplotlib.pyplot as plt\n",
        "\n",
        "plt.figure(figsize=(8,4))\n",
        "plt.subplot(1, 2,1)\n",
        "plt.plot(resnet_history.history['loss'],'b-', label = \"training\")\n",
        "plt.plot(resnet_history.history['val_loss'], 'r:', label = \"validation\")\n",
        "plt.title(\"model - loss\")\n",
        "plt.legend()\n",
        "\n",
        "plt.subplot(1, 2, 2)\n",
        "plt.title(\"model - accuracy\")\n",
        "\n",
        "plt.plot(resnet_history.history['accuracy'], 'b-', label = \"training\")\n",
        "plt.plot(resnet_history.history['val_accuracy'], 'r:', label = \"validation\")\n",
        "\n",
        "plt.legend()\n",
        "plt.tight_layout()\n",
        "plt.show()"
      ],
      "metadata": {
        "colab": {
          "base_uri": "https://localhost:8080/",
          "height": 297
        },
        "id": "hy_tyQGCZsVX",
        "outputId": "d2128bde-f9da-4c8e-c3bb-e2cc737e6ca4"
      },
      "execution_count": 18,
      "outputs": [
        {
          "output_type": "display_data",
          "data": {
            "text/plain": [
              "<Figure size 576x288 with 2 Axes>"
            ],
            "image/png": "[encoded data removed]"
          },
          "metadata": {
            "needs_background": "light"
          }
        }
      ]
    }
  ]
}