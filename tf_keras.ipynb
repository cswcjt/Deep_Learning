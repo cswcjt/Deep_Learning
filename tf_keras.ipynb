{
  "nbformat": 4,
  "nbformat_minor": 0,
  "metadata": {
    "colab": {
      "provenance": [],
      "authorship_tag": "ABX9TyNUE4Q1c9/XarxapFV8gluI",
      "include_colab_link": true
    },
    "kernelspec": {
      "name": "python3",
      "display_name": "Python 3"
    },
    "language_info": {
      "name": "python"
    },
    "gpuClass": "standard",
    "accelerator": "GPU"
  },
  "cells": [
    {
      "cell_type": "markdown",
      "metadata": {
        "id": "view-in-github",
        "colab_type": "text"
      },
      "source": [
        "<a href=\"https://colab.research.google.com/github/cswcjt/Deep_Learning/blob/main/tf_keras.ipynb\" target=\"_parent\"><img src=\"https://colab.research.google.com/assets/colab-badge.svg\" alt=\"Open In Colab\"/></a>"
      ]
    },
    {
      "cell_type": "code",
      "source": [
        "!nvidia-smi"
      ],
      "metadata": {
        "colab": {
          "base_uri": "https://localhost:8080/"
        },
        "id": "lg_crkq6vJjP",
        "outputId": "74b723b0-0904-4bf3-ca09-6d42573e9d09"
      },
      "execution_count": 1,
      "outputs": [
        {
          "output_type": "stream",
          "name": "stdout",
          "text": [
            "Wed Nov 30 05:21:48 2022       \n",
            "+-----------------------------------------------------------------------------+\n",
            "| NVIDIA-SMI 460.32.03    Driver Version: 460.32.03    CUDA Version: 11.2     |\n",
            "|-------------------------------+----------------------+----------------------+\n",
            "| GPU  Name        Persistence-M| Bus-Id        Disp.A | Volatile Uncorr. ECC |\n",
            "| Fan  Temp  Perf  Pwr:Usage/Cap|         Memory-Usage | GPU-Util  Compute M. |\n",
            "|                               |                      |               MIG M. |\n",
            "|===============================+======================+======================|\n",
            "|   0  Tesla T4            Off  | 00000000:00:04.0 Off |                    0 |\n",
            "| N/A   54C    P8     9W /  70W |      0MiB / 15109MiB |      0%      Default |\n",
            "|                               |                      |                  N/A |\n",
            "+-------------------------------+----------------------+----------------------+\n",
            "                                                                               \n",
            "+-----------------------------------------------------------------------------+\n",
            "| Processes:                                                                  |\n",
            "|  GPU   GI   CI        PID   Type   Process name                  GPU Memory |\n",
            "|        ID   ID                                                   Usage      |\n",
            "|=============================================================================|\n",
            "|  No running processes found                                                 |\n",
            "+-----------------------------------------------------------------------------+\n"
          ]
        }
      ]
    },
    {
      "cell_type": "code",
      "execution_count": 2,
      "metadata": {
        "colab": {
          "base_uri": "https://localhost:8080/",
          "height": 35
        },
        "id": "snXto23duz0X",
        "outputId": "eeaf6c38-d62c-49d3-d286-6ca7db0a0ed6"
      },
      "outputs": [
        {
          "output_type": "execute_result",
          "data": {
            "text/plain": [
              "'2.9.2'"
            ],
            "application/vnd.google.colaboratory.intrinsic+json": {
              "type": "string"
            }
          },
          "metadata": {},
          "execution_count": 2
        }
      ],
      "source": [
        "import tensorflow as tf\n",
        "import numpy as np\n",
        "tf.__version__"
      ]
    },
    {
      "cell_type": "code",
      "source": [
        "# DNN \n",
        "from tensorflow import keras\n",
        "import tensorflow as tf\n",
        "# dataset \n",
        "from tensorflow.keras.datasets import cifar10\n",
        "from tensorflow.keras.layers import Input, Dense, Flatten # -> Dense: 모든 노드들이 연결되어 있는 NN\n",
        "from tensorflow.keras import Sequential"
      ],
      "metadata": {
        "id": "mLQTaAXevNOd"
      },
      "execution_count": 3,
      "outputs": []
    },
    {
      "cell_type": "markdown",
      "source": [],
      "metadata": {
        "id": "UoIow7chzIRP"
      }
    },
    {
      "cell_type": "code",
      "source": [
        "# load CIFAR10\n",
        "(X_train, y_train), (X_test, y_test) = cifar10.load_data()\n",
        "print(X_train.shape, y_train.shape, X_test.shape, y_test.shape)\n",
        "\n",
        "# RGB (3-channel)\n",
        "# 32*32 -R -> pitxel matrix\n",
        "# 32*32 -G -> pitxel matrix\n",
        "# 32*32 -B -> pitxel matrix"
      ],
      "metadata": {
        "colab": {
          "base_uri": "https://localhost:8080/"
        },
        "id": "EMQ1OU7pxExZ",
        "outputId": "08a0b3ae-dc45-4d54-8f5f-5c33860edc49"
      },
      "execution_count": 4,
      "outputs": [
        {
          "output_type": "stream",
          "name": "stdout",
          "text": [
            "(50000, 32, 32, 3) (50000, 1) (10000, 32, 32, 3) (10000, 1)\n"
          ]
        }
      ]
    },
    {
      "cell_type": "markdown",
      "source": [
        "Model Traing\n",
        "\n",
        "1. Model architecture\n",
        "    "
      ],
      "metadata": {
        "id": "L1zzrx-3yo7_"
      }
    },
    {
      "cell_type": "code",
      "source": [
        "model = Sequential([\n",
        "    Input(shape=(32, 32, 3)), # input layer shape 결정\n",
        "    Flatten(), # (32,32,3) ---> shape을 (32*32*3, 1)로 바꾸는 작업: (input layer의 node 수)\n",
        "    Dense(units=1024, activation='relu'),\n",
        "    Dense(units=512, activation='relu'),\n",
        "    Dense(units=256, activation='relu'),\n",
        "    Dense(units=128, activation='sigmoid'),\n",
        "    Dense(units=10, activation='softmax') # output layer의 유닛은 클래스의 개수, activation은 소프트맥스                \n",
        "])\n",
        "\n",
        "model.summary()"
      ],
      "metadata": {
        "colab": {
          "base_uri": "https://localhost:8080/"
        },
        "id": "a0-1C8zBy0mQ",
        "outputId": "94469f7f-d9fb-4acc-e86b-ac9b8c44e1dd"
      },
      "execution_count": 21,
      "outputs": [
        {
          "output_type": "stream",
          "name": "stdout",
          "text": [
            "Model: \"sequential_2\"\n",
            "_________________________________________________________________\n",
            " Layer (type)                Output Shape              Param #   \n",
            "=================================================================\n",
            " flatten_2 (Flatten)         (None, 3072)              0         \n",
            "                                                                 \n",
            " dense_8 (Dense)             (None, 1024)              3146752   \n",
            "                                                                 \n",
            " dense_9 (Dense)             (None, 512)               524800    \n",
            "                                                                 \n",
            " dense_10 (Dense)            (None, 256)               131328    \n",
            "                                                                 \n",
            " dense_11 (Dense)            (None, 128)               32896     \n",
            "                                                                 \n",
            " dense_12 (Dense)            (None, 10)                1290      \n",
            "                                                                 \n",
            "=================================================================\n",
            "Total params: 3,837,066\n",
            "Trainable params: 3,837,066\n",
            "Non-trainable params: 0\n",
            "_________________________________________________________________\n"
          ]
        }
      ]
    },
    {
      "cell_type": "code",
      "source": [
        "# dense_1 (Dense)  (None, 1024)   3146752 = (3072 + 1) * 1024\n",
        "# dense_2 (Dense)  (None, 1024)   3146752 = (1024 + 1) * 1024\n",
        "# ..."
      ],
      "metadata": {
        "id": "p05MWkk20diT"
      },
      "execution_count": 22,
      "outputs": []
    },
    {
      "cell_type": "code",
      "source": [
        "# compile\n",
        "from tensorflow.keras.optimizers import SGD, Adam # Stochastic, 아담을 부른다\n",
        "\n",
        "lr = 1e-7\n",
        "# 모든 데이터가 학습에 사용되면 1 epoch\n",
        "# epochs: 전체 데이터를 몇번 반복 학습을 수행할건지\n",
        "# iterations: 실제로 weight update를 한 횟수.\n",
        "# iterations =  전체 데이터 수 / batch_size.\n",
        "# ex) 50000 / 128 = 391\n",
        "# ex) 50000 / 256 = 196\n",
        "epochs = 40\n",
        "batch_size = 128\n",
        "\n",
        "# 파라미터로 momentum 넣을 수 있다\n",
        "#optimizer_fn = SGD(learning_rate=lr) \n",
        "optimizer_fn = SGD(learning_rate=lr, momentum=0.9) \n",
        "# optimizer_fn = Adam(learning_rate=lr) \n",
        "\n",
        "# 클래스가 여러개인 경우, 즉 target vector가 정수인 경우 적용하는 crossentropy\n",
        "loss_fn = 'sparse_categorical_crossentropy' \n",
        "\n",
        "model.compile(optimizer=optimizer_fn,\n",
        "              loss=loss_fn,\n",
        "              metrics=['accuracy'])"
      ],
      "metadata": {
        "id": "d9EdA-A71efO"
      },
      "execution_count": 23,
      "outputs": []
    },
    {
      "cell_type": "code",
      "source": [
        "# fit \n",
        "model.fit(x=X_train,\n",
        "          y=y_train,\n",
        "          batch_size=batch_size,\n",
        "          epochs=epochs,\n",
        "          verbose=2,\n",
        "          validation_data=(X_test, y_test))"
      ],
      "metadata": {
        "colab": {
          "base_uri": "https://localhost:8080/"
        },
        "id": "yiglyyVZ4xeU",
        "outputId": "5c79255d-b0ba-48f5-ea5a-80d05bf0a353"
      },
      "execution_count": 24,
      "outputs": [
        {
          "output_type": "stream",
          "name": "stdout",
          "text": [
            "Epoch 1/40\n",
            "391/391 - 2s - loss: 2.6745 - accuracy: 0.0994 - val_loss: 2.6586 - val_accuracy: 0.1025 - 2s/epoch - 5ms/step\n",
            "Epoch 2/40\n",
            "391/391 - 2s - loss: 2.6494 - accuracy: 0.1018 - val_loss: 2.6346 - val_accuracy: 0.1043 - 2s/epoch - 4ms/step\n",
            "Epoch 3/40\n",
            "391/391 - 1s - loss: 2.6261 - accuracy: 0.1038 - val_loss: 2.6120 - val_accuracy: 0.1058 - 1s/epoch - 4ms/step\n",
            "Epoch 4/40\n",
            "391/391 - 1s - loss: 2.6043 - accuracy: 0.1057 - val_loss: 2.5916 - val_accuracy: 0.1087 - 1s/epoch - 3ms/step\n",
            "Epoch 5/40\n",
            "391/391 - 1s - loss: 2.5845 - accuracy: 0.1077 - val_loss: 2.5724 - val_accuracy: 0.1099 - 1s/epoch - 4ms/step\n",
            "Epoch 6/40\n",
            "391/391 - 1s - loss: 2.5663 - accuracy: 0.1088 - val_loss: 2.5544 - val_accuracy: 0.1109 - 1s/epoch - 3ms/step\n",
            "Epoch 7/40\n",
            "391/391 - 1s - loss: 2.5486 - accuracy: 0.1100 - val_loss: 2.5366 - val_accuracy: 0.1128 - 1s/epoch - 4ms/step\n",
            "Epoch 8/40\n",
            "391/391 - 1s - loss: 2.5324 - accuracy: 0.1114 - val_loss: 2.5208 - val_accuracy: 0.1143 - 1s/epoch - 4ms/step\n",
            "Epoch 9/40\n",
            "391/391 - 1s - loss: 2.5183 - accuracy: 0.1127 - val_loss: 2.5063 - val_accuracy: 0.1150 - 1s/epoch - 4ms/step\n",
            "Epoch 10/40\n",
            "391/391 - 1s - loss: 2.5055 - accuracy: 0.1144 - val_loss: 2.4937 - val_accuracy: 0.1154 - 1s/epoch - 3ms/step\n",
            "Epoch 11/40\n",
            "391/391 - 1s - loss: 2.4934 - accuracy: 0.1155 - val_loss: 2.4817 - val_accuracy: 0.1160 - 1s/epoch - 3ms/step\n",
            "Epoch 12/40\n",
            "391/391 - 1s - loss: 2.4824 - accuracy: 0.1166 - val_loss: 2.4707 - val_accuracy: 0.1174 - 1s/epoch - 3ms/step\n",
            "Epoch 13/40\n",
            "391/391 - 1s - loss: 2.4723 - accuracy: 0.1180 - val_loss: 2.4607 - val_accuracy: 0.1182 - 1s/epoch - 3ms/step\n",
            "Epoch 14/40\n",
            "391/391 - 1s - loss: 2.4630 - accuracy: 0.1188 - val_loss: 2.4516 - val_accuracy: 0.1200 - 1s/epoch - 4ms/step\n",
            "Epoch 15/40\n",
            "391/391 - 1s - loss: 2.4545 - accuracy: 0.1195 - val_loss: 2.4434 - val_accuracy: 0.1227 - 1s/epoch - 4ms/step\n",
            "Epoch 16/40\n",
            "391/391 - 1s - loss: 2.4466 - accuracy: 0.1206 - val_loss: 2.4360 - val_accuracy: 0.1240 - 1s/epoch - 4ms/step\n",
            "Epoch 17/40\n",
            "391/391 - 1s - loss: 2.4394 - accuracy: 0.1209 - val_loss: 2.4290 - val_accuracy: 0.1243 - 1s/epoch - 3ms/step\n",
            "Epoch 18/40\n",
            "391/391 - 1s - loss: 2.4326 - accuracy: 0.1221 - val_loss: 2.4224 - val_accuracy: 0.1246 - 1s/epoch - 4ms/step\n",
            "Epoch 19/40\n",
            "391/391 - 1s - loss: 2.4263 - accuracy: 0.1226 - val_loss: 2.4163 - val_accuracy: 0.1267 - 1s/epoch - 3ms/step\n",
            "Epoch 20/40\n",
            "391/391 - 1s - loss: 2.4204 - accuracy: 0.1235 - val_loss: 2.4106 - val_accuracy: 0.1283 - 1s/epoch - 4ms/step\n",
            "Epoch 21/40\n",
            "391/391 - 1s - loss: 2.4150 - accuracy: 0.1245 - val_loss: 2.4054 - val_accuracy: 0.1295 - 1s/epoch - 4ms/step\n",
            "Epoch 22/40\n",
            "391/391 - 1s - loss: 2.4098 - accuracy: 0.1255 - val_loss: 2.4006 - val_accuracy: 0.1304 - 1s/epoch - 4ms/step\n",
            "Epoch 23/40\n",
            "391/391 - 1s - loss: 2.4049 - accuracy: 0.1264 - val_loss: 2.3963 - val_accuracy: 0.1290 - 1s/epoch - 4ms/step\n",
            "Epoch 24/40\n",
            "391/391 - 1s - loss: 2.4003 - accuracy: 0.1270 - val_loss: 2.3922 - val_accuracy: 0.1297 - 1s/epoch - 4ms/step\n",
            "Epoch 25/40\n",
            "391/391 - 1s - loss: 2.3959 - accuracy: 0.1281 - val_loss: 2.3883 - val_accuracy: 0.1312 - 1s/epoch - 3ms/step\n",
            "Epoch 26/40\n",
            "391/391 - 1s - loss: 2.3916 - accuracy: 0.1296 - val_loss: 2.3843 - val_accuracy: 0.1325 - 1s/epoch - 3ms/step\n",
            "Epoch 27/40\n",
            "391/391 - 2s - loss: 2.3875 - accuracy: 0.1303 - val_loss: 2.3805 - val_accuracy: 0.1338 - 2s/epoch - 4ms/step\n",
            "Epoch 28/40\n",
            "391/391 - 1s - loss: 2.3836 - accuracy: 0.1313 - val_loss: 2.3767 - val_accuracy: 0.1359 - 1s/epoch - 3ms/step\n",
            "Epoch 29/40\n",
            "391/391 - 1s - loss: 2.3798 - accuracy: 0.1324 - val_loss: 2.3730 - val_accuracy: 0.1361 - 1s/epoch - 4ms/step\n",
            "Epoch 30/40\n",
            "391/391 - 1s - loss: 2.3761 - accuracy: 0.1335 - val_loss: 2.3694 - val_accuracy: 0.1368 - 1s/epoch - 3ms/step\n",
            "Epoch 31/40\n",
            "391/391 - 1s - loss: 2.3726 - accuracy: 0.1350 - val_loss: 2.3659 - val_accuracy: 0.1374 - 1s/epoch - 4ms/step\n",
            "Epoch 32/40\n",
            "391/391 - 1s - loss: 2.3691 - accuracy: 0.1359 - val_loss: 2.3624 - val_accuracy: 0.1391 - 1s/epoch - 4ms/step\n",
            "Epoch 33/40\n",
            "391/391 - 1s - loss: 2.3658 - accuracy: 0.1369 - val_loss: 2.3592 - val_accuracy: 0.1401 - 1s/epoch - 4ms/step\n",
            "Epoch 34/40\n",
            "391/391 - 1s - loss: 2.3626 - accuracy: 0.1373 - val_loss: 2.3560 - val_accuracy: 0.1405 - 1s/epoch - 3ms/step\n",
            "Epoch 35/40\n",
            "391/391 - 1s - loss: 2.3595 - accuracy: 0.1380 - val_loss: 2.3529 - val_accuracy: 0.1413 - 1s/epoch - 3ms/step\n",
            "Epoch 36/40\n",
            "391/391 - 2s - loss: 2.3564 - accuracy: 0.1386 - val_loss: 2.3499 - val_accuracy: 0.1425 - 2s/epoch - 4ms/step\n",
            "Epoch 37/40\n",
            "391/391 - 1s - loss: 2.3534 - accuracy: 0.1401 - val_loss: 2.3470 - val_accuracy: 0.1444 - 1s/epoch - 3ms/step\n",
            "Epoch 38/40\n",
            "391/391 - 1s - loss: 2.3506 - accuracy: 0.1410 - val_loss: 2.3442 - val_accuracy: 0.1452 - 1s/epoch - 4ms/step\n",
            "Epoch 39/40\n",
            "391/391 - 1s - loss: 2.3478 - accuracy: 0.1418 - val_loss: 2.3416 - val_accuracy: 0.1447 - 1s/epoch - 3ms/step\n",
            "Epoch 40/40\n",
            "391/391 - 1s - loss: 2.3451 - accuracy: 0.1424 - val_loss: 2.3389 - val_accuracy: 0.1458 - 1s/epoch - 3ms/step\n"
          ]
        },
        {
          "output_type": "execute_result",
          "data": {
            "text/plain": [
              "<keras.callbacks.History at 0x7f44cc278190>"
            ]
          },
          "metadata": {},
          "execution_count": 24
        }
      ]
    },
    {
      "cell_type": "code",
      "source": [
        "## 어떤 Hyper-parameter setting에서 최고의 성능이 나왔나요?\n",
        "# evaluate\n",
        "loss, acc = model.evaluate(X_test, y_test, batch_size=batch_size)\n",
        "print(\"Loss : %.4f, Test Accuracy : %.4f\" % (loss, acc))"
      ],
      "metadata": {
        "colab": {
          "base_uri": "https://localhost:8080/"
        },
        "id": "wYWIbayH5OFl",
        "outputId": "f7cbb3f3-05b2-40ed-c373-7742c6695e7f"
      },
      "execution_count": 18,
      "outputs": [
        {
          "output_type": "stream",
          "name": "stdout",
          "text": [
            "40/40 [==============================] - 0s 4ms/step - loss: 2.1401 - accuracy: 0.2414\n",
            "Loss : 2.1401, Test Accuracy : 0.2414\n"
          ]
        }
      ]
    },
    {
      "cell_type": "code",
      "source": [],
      "metadata": {
        "id": "xoGTzM8C9-xp"
      },
      "execution_count": 9,
      "outputs": []
    }
  ]
}