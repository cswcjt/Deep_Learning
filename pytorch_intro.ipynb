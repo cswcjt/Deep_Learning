{
  "nbformat": 4,
  "nbformat_minor": 0,
  "metadata": {
    "colab": {
      "provenance": [],
      "authorship_tag": "ABX9TyPQqgLJ06PqgzA8a7L1fbAA",
      "include_colab_link": true
    },
    "kernelspec": {
      "name": "python3",
      "display_name": "Python 3"
    },
    "language_info": {
      "name": "python"
    },
    "gpuClass": "standard"
  },
  "cells": [
    {
      "cell_type": "markdown",
      "metadata": {
        "id": "view-in-github",
        "colab_type": "text"
      },
      "source": [
        "<a href=\"https://colab.research.google.com/github/cswcjt/Deep_Learning/blob/main/pytorch_intro.ipynb\" target=\"_parent\"><img src=\"https://colab.research.google.com/assets/colab-badge.svg\" alt=\"Open In Colab\"/></a>"
      ]
    },
    {
      "cell_type": "code",
      "execution_count": 74,
      "metadata": {
        "id": "bxzS3sGZKzNL"
      },
      "outputs": [],
      "source": [
        "import torch"
      ]
    },
    {
      "cell_type": "code",
      "source": [
        "torch.__version__"
      ],
      "metadata": {
        "colab": {
          "base_uri": "https://localhost:8080/",
          "height": 35
        },
        "id": "zOu4_MWKK7OP",
        "outputId": "42f87a85-5800-4bc0-fbc6-8685ca3bd046"
      },
      "execution_count": 75,
      "outputs": [
        {
          "output_type": "execute_result",
          "data": {
            "text/plain": [
              "'1.13.0+cu116'"
            ],
            "application/vnd.google.colaboratory.intrinsic+json": {
              "type": "string"
            }
          },
          "metadata": {},
          "execution_count": 75
        }
      ]
    },
    {
      "cell_type": "markdown",
      "source": [
        "### 1. tensor 만들기"
      ],
      "metadata": {
        "id": "r2yKNFXkMUs7"
      }
    },
    {
      "cell_type": "code",
      "source": [
        "x = [[0,1], [2,3]]"
      ],
      "metadata": {
        "id": "9SR_0GiqLAFW"
      },
      "execution_count": 76,
      "outputs": []
    },
    {
      "cell_type": "code",
      "source": [
        "print('x:', x)\n",
        "print('type:', type(x))"
      ],
      "metadata": {
        "colab": {
          "base_uri": "https://localhost:8080/"
        },
        "id": "WEHGjlqcLCZd",
        "outputId": "83aebf13-1d52-4515-9136-94726117114a"
      },
      "execution_count": 77,
      "outputs": [
        {
          "output_type": "stream",
          "name": "stdout",
          "text": [
            "x: [[0, 1], [2, 3]]\n",
            "type: <class 'list'>\n"
          ]
        }
      ]
    },
    {
      "cell_type": "code",
      "source": [
        "x_tensor = torch.tensor(x)\n",
        "print('x_tensor:', x_tensor)\n",
        "print('type:', type(x_tensor))"
      ],
      "metadata": {
        "colab": {
          "base_uri": "https://localhost:8080/"
        },
        "id": "rUDJ0eDsLM6P",
        "outputId": "d894e85e-4078-4e04-edbd-1e5e69b51d85"
      },
      "execution_count": 78,
      "outputs": [
        {
          "output_type": "stream",
          "name": "stdout",
          "text": [
            "x_tensor: tensor([[0, 1],\n",
            "        [2, 3]])\n",
            "type: <class 'torch.Tensor'>\n"
          ]
        }
      ]
    },
    {
      "cell_type": "code",
      "source": [
        "import numpy as np"
      ],
      "metadata": {
        "id": "hFW4UUABLbj5"
      },
      "execution_count": 79,
      "outputs": []
    },
    {
      "cell_type": "code",
      "source": [
        "x_numpy = np.array(x)\n",
        "print(type(x_numpy))"
      ],
      "metadata": {
        "colab": {
          "base_uri": "https://localhost:8080/"
        },
        "id": "yM7kLn9CLh2A",
        "outputId": "c8943e14-7b5f-4654-ef0a-150513dec8d0"
      },
      "execution_count": 80,
      "outputs": [
        {
          "output_type": "stream",
          "name": "stdout",
          "text": [
            "<class 'numpy.ndarray'>\n"
          ]
        }
      ]
    },
    {
      "cell_type": "code",
      "source": [
        "numpy_to_tensor = torch.from_numpy(x_numpy)\n",
        "print(type(numpy_to_tensor))"
      ],
      "metadata": {
        "colab": {
          "base_uri": "https://localhost:8080/"
        },
        "id": "7Ji83HARLl3w",
        "outputId": "1ef0b538-1f26-4bd7-bbed-98bdea94f1dd"
      },
      "execution_count": 81,
      "outputs": [
        {
          "output_type": "stream",
          "name": "stdout",
          "text": [
            "<class 'torch.Tensor'>\n"
          ]
        }
      ]
    },
    {
      "cell_type": "code",
      "source": [
        "tensor_to_numpy = numpy_to_tensor.numpy()\n",
        "print(type(tensor_to_numpy))"
      ],
      "metadata": {
        "colab": {
          "base_uri": "https://localhost:8080/"
        },
        "id": "GQLWouDMLzuN",
        "outputId": "890a5a99-b563-46ef-fc47-a98449739297"
      },
      "execution_count": 82,
      "outputs": [
        {
          "output_type": "stream",
          "name": "stdout",
          "text": [
            "<class 'numpy.ndarray'>\n"
          ]
        }
      ]
    },
    {
      "cell_type": "code",
      "source": [
        "rand_tensor = torch.rand(2,2)\n",
        "rand_tensor.shape"
      ],
      "metadata": {
        "colab": {
          "base_uri": "https://localhost:8080/"
        },
        "id": "gnJfWoCOL8lf",
        "outputId": "f9a80d6b-7be7-4a5a-84fa-a317195663f7"
      },
      "execution_count": 83,
      "outputs": [
        {
          "output_type": "execute_result",
          "data": {
            "text/plain": [
              "torch.Size([2, 2])"
            ]
          },
          "metadata": {},
          "execution_count": 83
        }
      ]
    },
    {
      "cell_type": "code",
      "source": [
        "rand_tensor"
      ],
      "metadata": {
        "colab": {
          "base_uri": "https://localhost:8080/"
        },
        "id": "hrUGUk2MME54",
        "outputId": "40472c06-f755-4f2d-cfb3-d88b2c8ce676"
      },
      "execution_count": 84,
      "outputs": [
        {
          "output_type": "execute_result",
          "data": {
            "text/plain": [
              "tensor([[0.3910, 0.1616],\n",
              "        [0.9422, 0.0956]])"
            ]
          },
          "metadata": {},
          "execution_count": 84
        }
      ]
    },
    {
      "cell_type": "code",
      "source": [
        "tensor_zero = torch.zeros(3,3)\n",
        "print(tensor_zero)"
      ],
      "metadata": {
        "colab": {
          "base_uri": "https://localhost:8080/"
        },
        "id": "YOHFcOTCMHM3",
        "outputId": "85e07e27-574e-42a9-9a95-30b1c6b58f95"
      },
      "execution_count": 85,
      "outputs": [
        {
          "output_type": "stream",
          "name": "stdout",
          "text": [
            "tensor([[0., 0., 0.],\n",
            "        [0., 0., 0.],\n",
            "        [0., 0., 0.]])\n"
          ]
        }
      ]
    },
    {
      "cell_type": "code",
      "source": [
        "tensor_one = torch.ones(3,3)\n",
        "print(tensor_one)"
      ],
      "metadata": {
        "colab": {
          "base_uri": "https://localhost:8080/"
        },
        "id": "7ji2PcPnMOkj",
        "outputId": "0a666e91-3111-480b-a2b3-b5eae07164ab"
      },
      "execution_count": 86,
      "outputs": [
        {
          "output_type": "stream",
          "name": "stdout",
          "text": [
            "tensor([[1., 1., 1.],\n",
            "        [1., 1., 1.],\n",
            "        [1., 1., 1.]])\n"
          ]
        }
      ]
    },
    {
      "cell_type": "markdown",
      "source": [
        "### 2. tensor 연산"
      ],
      "metadata": {
        "id": "gpg8ydLkMTFq"
      }
    },
    {
      "cell_type": "code",
      "source": [
        "x_tensor = torch.tensor([[1,2,3], [4,5,6]])\n",
        "x_tensor"
      ],
      "metadata": {
        "colab": {
          "base_uri": "https://localhost:8080/"
        },
        "id": "QqE7g_YSMcAG",
        "outputId": "32f9ce5b-f3ea-452d-d64f-afb534b7ac99"
      },
      "execution_count": 87,
      "outputs": [
        {
          "output_type": "execute_result",
          "data": {
            "text/plain": [
              "tensor([[1, 2, 3],\n",
              "        [4, 5, 6]])"
            ]
          },
          "metadata": {},
          "execution_count": 87
        }
      ]
    },
    {
      "cell_type": "code",
      "source": [
        "# fisrt row\n",
        "print(x_tensor[0])\n",
        "\n",
        "# second row\n",
        "print(x_tensor[1])\n",
        "\n",
        "# the last row\n",
        "print(x_tensor[-1])"
      ],
      "metadata": {
        "colab": {
          "base_uri": "https://localhost:8080/"
        },
        "id": "0q9JmTv-MkEA",
        "outputId": "db8a2999-807c-410e-d144-e8a072f10a4b"
      },
      "execution_count": 88,
      "outputs": [
        {
          "output_type": "stream",
          "name": "stdout",
          "text": [
            "tensor([1, 2, 3])\n",
            "tensor([4, 5, 6])\n",
            "tensor([4, 5, 6])\n"
          ]
        }
      ]
    },
    {
      "cell_type": "code",
      "source": [
        "# first column\n",
        "print(x_tensor[:,0])\n",
        "\n",
        "# second column\n",
        "print(x_tensor[:,1])\n",
        "\n",
        "# the last column\n",
        "print(x_tensor[:,-1])"
      ],
      "metadata": {
        "colab": {
          "base_uri": "https://localhost:8080/"
        },
        "id": "eNdV5BoFNBfA",
        "outputId": "b6e7b517-a67b-4374-831e-32d3235ff54f"
      },
      "execution_count": 89,
      "outputs": [
        {
          "output_type": "stream",
          "name": "stdout",
          "text": [
            "tensor([1, 4])\n",
            "tensor([2, 5])\n",
            "tensor([3, 6])\n"
          ]
        }
      ]
    },
    {
      "cell_type": "code",
      "source": [
        "# second row, last col\n",
        "print(x_tensor[1,2])\n",
        "print(x_tensor[1,-1])"
      ],
      "metadata": {
        "colab": {
          "base_uri": "https://localhost:8080/"
        },
        "id": "-IAvS-4tNNXo",
        "outputId": "adba3144-becb-47cb-cc4f-e2c9b682f5ff"
      },
      "execution_count": 90,
      "outputs": [
        {
          "output_type": "stream",
          "name": "stdout",
          "text": [
            "tensor(6)\n",
            "tensor(6)\n"
          ]
        }
      ]
    },
    {
      "cell_type": "code",
      "source": [
        "print(\"x_tensor before:\", x_tensor)\n",
        "x_tensor[1,1] = 0\n",
        "print(\"x_tensor after:\", x_tensor)"
      ],
      "metadata": {
        "colab": {
          "base_uri": "https://localhost:8080/"
        },
        "id": "ipsXnfw0Neuz",
        "outputId": "353516b6-4d0f-498b-ae9d-c02bc97bcc40"
      },
      "execution_count": 91,
      "outputs": [
        {
          "output_type": "stream",
          "name": "stdout",
          "text": [
            "x_tensor before: tensor([[1, 2, 3],\n",
            "        [4, 5, 6]])\n",
            "x_tensor after: tensor([[1, 2, 3],\n",
            "        [4, 0, 6]])\n"
          ]
        }
      ]
    },
    {
      "cell_type": "code",
      "source": [
        "x_tensor = torch.tensor([[1,2,3], [4,5,6]])\n",
        "print(\"x_tensor before:\", x_tensor)\n",
        "x_tensor[1] = 0\n",
        "print(\"x_tensor after:\", x_tensor)"
      ],
      "metadata": {
        "id": "sU-oY-J0OIF0",
        "colab": {
          "base_uri": "https://localhost:8080/"
        },
        "outputId": "8222439b-b6d8-4493-b8e6-9cb3f1ed64f4"
      },
      "execution_count": 92,
      "outputs": [
        {
          "output_type": "stream",
          "name": "stdout",
          "text": [
            "x_tensor before: tensor([[1, 2, 3],\n",
            "        [4, 5, 6]])\n",
            "x_tensor after: tensor([[1, 2, 3],\n",
            "        [0, 0, 0]])\n"
          ]
        }
      ]
    },
    {
      "cell_type": "code",
      "source": [
        "concat_dim0 = torch.cat([x_tensor, x_tensor], dim=0)\n",
        "print(concat_dim0)\n",
        "print()\n",
        "print(concat_dim0.shape)"
      ],
      "metadata": {
        "id": "SJL0WWJwOZmq",
        "colab": {
          "base_uri": "https://localhost:8080/"
        },
        "outputId": "c7f4805c-c6e3-4ce3-e57f-0c40a77bee07"
      },
      "execution_count": 93,
      "outputs": [
        {
          "output_type": "stream",
          "name": "stdout",
          "text": [
            "tensor([[1, 2, 3],\n",
            "        [0, 0, 0],\n",
            "        [1, 2, 3],\n",
            "        [0, 0, 0]])\n",
            "\n",
            "torch.Size([4, 3])\n"
          ]
        }
      ]
    },
    {
      "cell_type": "code",
      "source": [
        "concat_dim1 = torch.cat([x_tensor, x_tensor], dim=1)\n",
        "print(concat_dim1)\n",
        "print()\n",
        "print(concat_dim1.shape)"
      ],
      "metadata": {
        "colab": {
          "base_uri": "https://localhost:8080/"
        },
        "id": "fPxsBNUhQxs8",
        "outputId": "2643e943-fe82-4d35-e8f5-bde6600bc1a2"
      },
      "execution_count": 94,
      "outputs": [
        {
          "output_type": "stream",
          "name": "stdout",
          "text": [
            "tensor([[1, 2, 3, 1, 2, 3],\n",
            "        [0, 0, 0, 0, 0, 0]])\n",
            "\n",
            "torch.Size([2, 6])\n"
          ]
        }
      ]
    },
    {
      "cell_type": "code",
      "source": [
        "x_tensor = torch.tensor([[1,2,3], [4,5,6]])\n",
        "x_tensor.shape"
      ],
      "metadata": {
        "colab": {
          "base_uri": "https://localhost:8080/"
        },
        "id": "6EeUsRo_Q8Bg",
        "outputId": "fa53566d-babd-41ec-966c-9dbdfbbf0f5a"
      },
      "execution_count": 95,
      "outputs": [
        {
          "output_type": "execute_result",
          "data": {
            "text/plain": [
              "torch.Size([2, 3])"
            ]
          },
          "metadata": {},
          "execution_count": 95
        }
      ]
    },
    {
      "cell_type": "code",
      "source": [
        "print('2,3 --> 3,2')\n",
        "x_tensor2 = x_tensor.reshape(3,2)\n",
        "print(x_tensor2)\n",
        "print()\n",
        "print(x_tensor2.shape)"
      ],
      "metadata": {
        "colab": {
          "base_uri": "https://localhost:8080/"
        },
        "id": "wU5M2ET-RLeU",
        "outputId": "b12bbfed-8e8d-46c6-acac-73446984b199"
      },
      "execution_count": 96,
      "outputs": [
        {
          "output_type": "stream",
          "name": "stdout",
          "text": [
            "2,3 --> 3,2\n",
            "tensor([[1, 2],\n",
            "        [3, 4],\n",
            "        [5, 6]])\n",
            "\n",
            "torch.Size([3, 2])\n"
          ]
        }
      ]
    },
    {
      "cell_type": "code",
      "source": [
        "print('2,3 --> 3,2')\n",
        "x_tensor2 = x_tensor.view(3,2)\n",
        "print(x_tensor2)\n",
        "print()\n",
        "print(x_tensor2.shape)"
      ],
      "metadata": {
        "colab": {
          "base_uri": "https://localhost:8080/"
        },
        "id": "lBKKfSGyRV7n",
        "outputId": "7e5cb770-c33c-486e-a3e7-ca9e62ade7b8"
      },
      "execution_count": 97,
      "outputs": [
        {
          "output_type": "stream",
          "name": "stdout",
          "text": [
            "2,3 --> 3,2\n",
            "tensor([[1, 2],\n",
            "        [3, 4],\n",
            "        [5, 6]])\n",
            "\n",
            "torch.Size([3, 2])\n"
          ]
        }
      ]
    },
    {
      "cell_type": "code",
      "source": [
        "### 산술 연산"
      ],
      "metadata": {
        "id": "cC5O9QcIRrM6"
      },
      "execution_count": 98,
      "outputs": []
    },
    {
      "cell_type": "code",
      "source": [
        "x_tensor = torch.tensor([[1,2,3], [4,5,6]])"
      ],
      "metadata": {
        "id": "-ZtB2WxcRwk-"
      },
      "execution_count": 99,
      "outputs": []
    },
    {
      "cell_type": "code",
      "source": [
        "x_tensor"
      ],
      "metadata": {
        "colab": {
          "base_uri": "https://localhost:8080/"
        },
        "id": "qfAj1yAuR2xT",
        "outputId": "cacfc09c-34bf-4da1-9771-aefeeb384169"
      },
      "execution_count": 100,
      "outputs": [
        {
          "output_type": "execute_result",
          "data": {
            "text/plain": [
              "tensor([[1, 2, 3],\n",
              "        [4, 5, 6]])"
            ]
          },
          "metadata": {},
          "execution_count": 100
        }
      ]
    },
    {
      "cell_type": "code",
      "source": [
        "mat_mul = x_tensor.matmul(x_tensor.T)\n",
        "mat_mul"
      ],
      "metadata": {
        "colab": {
          "base_uri": "https://localhost:8080/"
        },
        "id": "aBwC0HapR3o1",
        "outputId": "63520e2b-8d76-4bbf-ea11-a7e50f4c3c15"
      },
      "execution_count": 101,
      "outputs": [
        {
          "output_type": "execute_result",
          "data": {
            "text/plain": [
              "tensor([[14, 32],\n",
              "        [32, 77]])"
            ]
          },
          "metadata": {},
          "execution_count": 101
        }
      ]
    },
    {
      "cell_type": "code",
      "source": [
        "element_product = x_tensor*x_tensor\n",
        "element_product\n",
        "\n",
        "element_product = x_tensor.mul(x_tensor)\n",
        "element_product"
      ],
      "metadata": {
        "colab": {
          "base_uri": "https://localhost:8080/"
        },
        "id": "sO7MzMVOR_cy",
        "outputId": "0b70aa5b-8a11-4fc4-a503-23226096a6d7"
      },
      "execution_count": 102,
      "outputs": [
        {
          "output_type": "execute_result",
          "data": {
            "text/plain": [
              "tensor([[ 1,  4,  9],\n",
              "        [16, 25, 36]])"
            ]
          },
          "metadata": {},
          "execution_count": 102
        }
      ]
    },
    {
      "cell_type": "code",
      "source": [
        "x_tensor.sum().item()"
      ],
      "metadata": {
        "colab": {
          "base_uri": "https://localhost:8080/"
        },
        "id": "ZYopCakWSI4s",
        "outputId": "95a83a0b-0373-4b46-d366-1fd307bfafc5"
      },
      "execution_count": 103,
      "outputs": [
        {
          "output_type": "execute_result",
          "data": {
            "text/plain": [
              "21"
            ]
          },
          "metadata": {},
          "execution_count": 103
        }
      ]
    },
    {
      "cell_type": "markdown",
      "source": [
        "### data 불러오기"
      ],
      "metadata": {
        "id": "lV5OiUMcSmA0"
      }
    },
    {
      "cell_type": "code",
      "source": [
        "import torch\n",
        "from torch.utils.data import DataLoader\n",
        "from torchvision import datasets, transforms\n",
        "import matplotlib.pyplot as plt"
      ],
      "metadata": {
        "id": "BsnVGSZiSa7D"
      },
      "execution_count": 104,
      "outputs": []
    },
    {
      "cell_type": "code",
      "source": [
        "# MNIST = DATA NAME\n",
        "train_data = datasets.MNIST(\n",
        "    root=\"data\", # 어디에 다운 받을지 경로를 설정\n",
        "    train=True,\n",
        "    download=True,\n",
        "    transform=transforms.ToTensor()\n",
        ")\n",
        "\n",
        "test_data = datasets.MNIST(\n",
        "    root=\"data\", # 어디에 다운 받을지 경로를 설정\n",
        "    train=False,\n",
        "    download=True,\n",
        "    transform=transforms.ToTensor()\n",
        ")"
      ],
      "metadata": {
        "id": "Ebg1tL6sS_-o"
      },
      "execution_count": 155,
      "outputs": []
    },
    {
      "cell_type": "code",
      "source": [
        "train_loader = DataLoader(train_data, batch_size=128, shuffle=True) # shuffle=True --> 매번 데이터를 부를 때마다 섞어라, 즉 데이터를 모델이 외우지 못하기 위함\n",
        "test_loader = DataLoader(test_data, batch_size=128, shuffle=False)"
      ],
      "metadata": {
        "id": "aAEYK34AT0oE"
      },
      "execution_count": 163,
      "outputs": []
    },
    {
      "cell_type": "code",
      "source": [
        "train_features, train_labels = next(iter(train_loader))\n",
        "\n",
        "print(f\"Feature batch shape: {train_features.size()}\")\n",
        "print(f\"Labels batch shape: {train_labels.size()}\")\n",
        "img = train_features[0].squeeze()\n",
        "label = train_labels[0]\n",
        "plt.imshow(img, cmap=\"gray\")\n",
        "plt.show()\n",
        "print(f\"Label: {label}\")"
      ],
      "metadata": {
        "colab": {
          "base_uri": "https://localhost:8080/",
          "height": 319
        },
        "id": "NQm_XR_Tbopz",
        "outputId": "b74b0b2d-3674-4afb-8d19-d35e014903d2"
      },
      "execution_count": 164,
      "outputs": [
        {
          "output_type": "stream",
          "name": "stdout",
          "text": [
            "Feature batch shape: torch.Size([128, 1, 28, 28])\n",
            "Labels batch shape: torch.Size([128])\n"
          ]
        },
        {
          "output_type": "display_data",
          "data": {
            "text/plain": [
              "<Figure size 432x288 with 1 Axes>"
            ],
            "image/png": "[encoded data removed]"
          },
          "metadata": {
            "needs_background": "light"
          }
        },
        {
          "output_type": "stream",
          "name": "stdout",
          "text": [
            "Label: 3\n"
          ]
        }
      ]
    },
    {
      "cell_type": "code",
      "source": [
        "# labels_map = {\n",
        "#     0: \"T-Shirt\",\n",
        "#     1: \"Trouser\",\n",
        "#     2: \"Pullover\",\n",
        "#     3: \"Dress\",\n",
        "#     4: \"Coat\",\n",
        "#     5: \"Sandal\",\n",
        "#     6: \"Shirt\",\n",
        "#     7: \"Sneaker\",\n",
        "#     8: \"Bag\",\n",
        "#     9: \"Ankle Boot\",\n",
        "# }\n",
        "# figure = plt.figure(figsize=(8, 8))\n",
        "# cols, rows = 3, 3\n",
        "# for i in range(1, cols * rows + 1):\n",
        "#     sample_idx = torch.randint(len(train_data), size=(1,)).item()\n",
        "#     img, label = train_data[sample_idx]\n",
        "#     figure.add_subplot(rows, cols, i)\n",
        "#     plt.title(labels_map[label])\n",
        "#     plt.axis(\"off\")\n",
        "#     plt.imshow(img.squeeze(), cmap=\"gray\")\n",
        "# plt.show()"
      ],
      "metadata": {
        "id": "Y-wrORj_YOMi"
      },
      "execution_count": 165,
      "outputs": []
    },
    {
      "cell_type": "code",
      "source": [
        "# images, labels = iter(train_loader)\n",
        "\n",
        "# print(images.shape)\n",
        "# print(labels.shape)"
      ],
      "metadata": {
        "id": "FHWw1TZaUFMa"
      },
      "execution_count": 122,
      "outputs": []
    },
    {
      "cell_type": "code",
      "source": [
        "# plt.imshow(images[0].reshape(28,28))"
      ],
      "metadata": {
        "id": "L11QnvBPUtQJ"
      },
      "execution_count": 123,
      "outputs": []
    },
    {
      "cell_type": "code",
      "source": [
        "import torch\n",
        "from torch.utils.data import DataLoader\n",
        "from torchvision import datasets, transforms\n",
        "import matplotlib.pyplot as plt\n",
        "import pandas as pd"
      ],
      "metadata": {
        "id": "7cQMzIbhZOlH"
      },
      "execution_count": 166,
      "outputs": []
    },
    {
      "cell_type": "code",
      "source": [
        "class My_Dataset():\n",
        "    def __init__(self, data, labels):\n",
        "        self.data = data\n",
        "        self.labels = labels\n",
        "\n",
        "    def __len__(self):\n",
        "        return len(self.labels)\n",
        "\n",
        "    def __getitem__(self, idx):\n",
        "        data = self.data[idx]\n",
        "        label = self.labels[idx] \n",
        "        sample = {\"data\": data, \"class\":label}\n",
        "        return sample"
      ],
      "metadata": {
        "id": "o0y7pytTdJqB"
      },
      "execution_count": 175,
      "outputs": []
    },
    {
      "cell_type": "code",
      "source": [
        "data = [\"NY\", \"BT\", \"CA\", \"BT\", \"NY\"]\n",
        "labels = [1,2,3,2,1]\n",
        "\n",
        "df = pd.DataFrame({\"data\":data, 'label':labels})\n",
        "\n",
        "data = My_Dataset(df[\"data\"], df[\"label\"])"
      ],
      "metadata": {
        "id": "dhpYIpijdsqq"
      },
      "execution_count": 176,
      "outputs": []
    },
    {
      "cell_type": "code",
      "source": [
        "print(next(iter(data)))"
      ],
      "metadata": {
        "colab": {
          "base_uri": "https://localhost:8080/"
        },
        "id": "8yRusX8_eY1g",
        "outputId": "472103db-c689-4142-d421-c558999cc24d"
      },
      "execution_count": 181,
      "outputs": [
        {
          "output_type": "stream",
          "name": "stdout",
          "text": [
            "{'data': 'NY', 'class': 1}\n"
          ]
        }
      ]
    },
    {
      "cell_type": "code",
      "source": [
        "print(\"data 수:\", len(data))\n",
        "print(\"모든 데이터:\", list(DataLoader(data)))"
      ],
      "metadata": {
        "colab": {
          "base_uri": "https://localhost:8080/"
        },
        "id": "B1RkLv7bexFt",
        "outputId": "343a07d9-c9fd-46dd-c003-4c09c732ad65"
      },
      "execution_count": 182,
      "outputs": [
        {
          "output_type": "stream",
          "name": "stdout",
          "text": [
            "data 수: 5\n",
            "모든 데이터: [{'data': ['NY'], 'class': tensor([1])}, {'data': ['BT'], 'class': tensor([2])}, {'data': ['CA'], 'class': tensor([3])}, {'data': ['BT'], 'class': tensor([2])}, {'data': ['NY'], 'class': tensor([1])}]\n"
          ]
        }
      ]
    },
    {
      "cell_type": "code",
      "source": [],
      "metadata": {
        "id": "bC9k0_1tfGpQ"
      },
      "execution_count": null,
      "outputs": []
    }
  ]
}